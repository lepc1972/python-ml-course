{
 "cells": [
  {
   "cell_type": "markdown",
   "id": "a58faa75",
   "metadata": {},
   "source": [
    "# carga datos con read_csv()"
   ]
  },
  {
   "cell_type": "code",
   "execution_count": 1,
   "id": "607aab3f",
   "metadata": {},
   "outputs": [],
   "source": [
    "import pandas as pd\n",
    "import os"
   ]
  },
  {
   "cell_type": "code",
   "execution_count": 2,
   "id": "183da9e4",
   "metadata": {},
   "outputs": [],
   "source": [
    "mainpath = \"/home/lexus72/github/python-ml-course/datasets\"\n",
    "filename = \"titanic/titanic3.csv\"\n",
    "fullpath = os.path.join(mainpath, filename)"
   ]
  },
  {
   "cell_type": "code",
   "execution_count": 3,
   "id": "10305cae",
   "metadata": {},
   "outputs": [],
   "source": [
    "df = pd.read_csv(fullpath)"
   ]
  },
  {
   "cell_type": "code",
   "execution_count": 4,
   "id": "755ebc34",
   "metadata": {},
   "outputs": [
    {
     "output_type": "execute_result",
     "data": {
      "text/plain": [
       "   pclass  survived                                             name     sex  \\\n",
       "0       1         1                    Allen, Miss. Elisabeth Walton  female   \n",
       "1       1         1                   Allison, Master. Hudson Trevor    male   \n",
       "2       1         0                     Allison, Miss. Helen Loraine  female   \n",
       "3       1         0             Allison, Mr. Hudson Joshua Creighton    male   \n",
       "4       1         0  Allison, Mrs. Hudson J C (Bessie Waldo Daniels)  female   \n",
       "\n",
       "       age  sibsp  parch  ticket      fare    cabin embarked boat   body  \\\n",
       "0  29.0000      0      0   24160  211.3375       B5        S    2    NaN   \n",
       "1   0.9167      1      2  113781  151.5500  C22 C26        S   11    NaN   \n",
       "2   2.0000      1      2  113781  151.5500  C22 C26        S  NaN    NaN   \n",
       "3  30.0000      1      2  113781  151.5500  C22 C26        S  NaN  135.0   \n",
       "4  25.0000      1      2  113781  151.5500  C22 C26        S  NaN    NaN   \n",
       "\n",
       "                         home.dest  \n",
       "0                     St Louis, MO  \n",
       "1  Montreal, PQ / Chesterville, ON  \n",
       "2  Montreal, PQ / Chesterville, ON  \n",
       "3  Montreal, PQ / Chesterville, ON  \n",
       "4  Montreal, PQ / Chesterville, ON  "
      ],
      "text/html": "<div>\n<style scoped>\n    .dataframe tbody tr th:only-of-type {\n        vertical-align: middle;\n    }\n\n    .dataframe tbody tr th {\n        vertical-align: top;\n    }\n\n    .dataframe thead th {\n        text-align: right;\n    }\n</style>\n<table border=\"1\" class=\"dataframe\">\n  <thead>\n    <tr style=\"text-align: right;\">\n      <th></th>\n      <th>pclass</th>\n      <th>survived</th>\n      <th>name</th>\n      <th>sex</th>\n      <th>age</th>\n      <th>sibsp</th>\n      <th>parch</th>\n      <th>ticket</th>\n      <th>fare</th>\n      <th>cabin</th>\n      <th>embarked</th>\n      <th>boat</th>\n      <th>body</th>\n      <th>home.dest</th>\n    </tr>\n  </thead>\n  <tbody>\n    <tr>\n      <th>0</th>\n      <td>1</td>\n      <td>1</td>\n      <td>Allen, Miss. Elisabeth Walton</td>\n      <td>female</td>\n      <td>29.0000</td>\n      <td>0</td>\n      <td>0</td>\n      <td>24160</td>\n      <td>211.3375</td>\n      <td>B5</td>\n      <td>S</td>\n      <td>2</td>\n      <td>NaN</td>\n      <td>St Louis, MO</td>\n    </tr>\n    <tr>\n      <th>1</th>\n      <td>1</td>\n      <td>1</td>\n      <td>Allison, Master. Hudson Trevor</td>\n      <td>male</td>\n      <td>0.9167</td>\n      <td>1</td>\n      <td>2</td>\n      <td>113781</td>\n      <td>151.5500</td>\n      <td>C22 C26</td>\n      <td>S</td>\n      <td>11</td>\n      <td>NaN</td>\n      <td>Montreal, PQ / Chesterville, ON</td>\n    </tr>\n    <tr>\n      <th>2</th>\n      <td>1</td>\n      <td>0</td>\n      <td>Allison, Miss. Helen Loraine</td>\n      <td>female</td>\n      <td>2.0000</td>\n      <td>1</td>\n      <td>2</td>\n      <td>113781</td>\n      <td>151.5500</td>\n      <td>C22 C26</td>\n      <td>S</td>\n      <td>NaN</td>\n      <td>NaN</td>\n      <td>Montreal, PQ / Chesterville, ON</td>\n    </tr>\n    <tr>\n      <th>3</th>\n      <td>1</td>\n      <td>0</td>\n      <td>Allison, Mr. Hudson Joshua Creighton</td>\n      <td>male</td>\n      <td>30.0000</td>\n      <td>1</td>\n      <td>2</td>\n      <td>113781</td>\n      <td>151.5500</td>\n      <td>C22 C26</td>\n      <td>S</td>\n      <td>NaN</td>\n      <td>135.0</td>\n      <td>Montreal, PQ / Chesterville, ON</td>\n    </tr>\n    <tr>\n      <th>4</th>\n      <td>1</td>\n      <td>0</td>\n      <td>Allison, Mrs. Hudson J C (Bessie Waldo Daniels)</td>\n      <td>female</td>\n      <td>25.0000</td>\n      <td>1</td>\n      <td>2</td>\n      <td>113781</td>\n      <td>151.5500</td>\n      <td>C22 C26</td>\n      <td>S</td>\n      <td>NaN</td>\n      <td>NaN</td>\n      <td>Montreal, PQ / Chesterville, ON</td>\n    </tr>\n  </tbody>\n</table>\n</div>"
     },
     "metadata": {},
     "execution_count": 4
    }
   ],
   "source": [
    "df.head()"
   ]
  },
  {
   "cell_type": "code",
   "execution_count": 5,
   "id": "413c957e",
   "metadata": {},
   "outputs": [
    {
     "output_type": "execute_result",
     "data": {
      "text/plain": [
       "      pclass  survived                       name     sex   age  sibsp  parch  \\\n",
       "1304       3         0       Zabour, Miss. Hileni  female  14.5      1      0   \n",
       "1305       3         0      Zabour, Miss. Thamine  female   NaN      1      0   \n",
       "1306       3         0  Zakarian, Mr. Mapriededer    male  26.5      0      0   \n",
       "1307       3         0        Zakarian, Mr. Ortin    male  27.0      0      0   \n",
       "1308       3         0         Zimmerman, Mr. Leo    male  29.0      0      0   \n",
       "\n",
       "      ticket     fare cabin embarked boat   body home.dest  \n",
       "1304    2665  14.4542   NaN        C  NaN  328.0       NaN  \n",
       "1305    2665  14.4542   NaN        C  NaN    NaN       NaN  \n",
       "1306    2656   7.2250   NaN        C  NaN  304.0       NaN  \n",
       "1307    2670   7.2250   NaN        C  NaN    NaN       NaN  \n",
       "1308  315082   7.8750   NaN        S  NaN    NaN       NaN  "
      ],
      "text/html": "<div>\n<style scoped>\n    .dataframe tbody tr th:only-of-type {\n        vertical-align: middle;\n    }\n\n    .dataframe tbody tr th {\n        vertical-align: top;\n    }\n\n    .dataframe thead th {\n        text-align: right;\n    }\n</style>\n<table border=\"1\" class=\"dataframe\">\n  <thead>\n    <tr style=\"text-align: right;\">\n      <th></th>\n      <th>pclass</th>\n      <th>survived</th>\n      <th>name</th>\n      <th>sex</th>\n      <th>age</th>\n      <th>sibsp</th>\n      <th>parch</th>\n      <th>ticket</th>\n      <th>fare</th>\n      <th>cabin</th>\n      <th>embarked</th>\n      <th>boat</th>\n      <th>body</th>\n      <th>home.dest</th>\n    </tr>\n  </thead>\n  <tbody>\n    <tr>\n      <th>1304</th>\n      <td>3</td>\n      <td>0</td>\n      <td>Zabour, Miss. Hileni</td>\n      <td>female</td>\n      <td>14.5</td>\n      <td>1</td>\n      <td>0</td>\n      <td>2665</td>\n      <td>14.4542</td>\n      <td>NaN</td>\n      <td>C</td>\n      <td>NaN</td>\n      <td>328.0</td>\n      <td>NaN</td>\n    </tr>\n    <tr>\n      <th>1305</th>\n      <td>3</td>\n      <td>0</td>\n      <td>Zabour, Miss. Thamine</td>\n      <td>female</td>\n      <td>NaN</td>\n      <td>1</td>\n      <td>0</td>\n      <td>2665</td>\n      <td>14.4542</td>\n      <td>NaN</td>\n      <td>C</td>\n      <td>NaN</td>\n      <td>NaN</td>\n      <td>NaN</td>\n    </tr>\n    <tr>\n      <th>1306</th>\n      <td>3</td>\n      <td>0</td>\n      <td>Zakarian, Mr. Mapriededer</td>\n      <td>male</td>\n      <td>26.5</td>\n      <td>0</td>\n      <td>0</td>\n      <td>2656</td>\n      <td>7.2250</td>\n      <td>NaN</td>\n      <td>C</td>\n      <td>NaN</td>\n      <td>304.0</td>\n      <td>NaN</td>\n    </tr>\n    <tr>\n      <th>1307</th>\n      <td>3</td>\n      <td>0</td>\n      <td>Zakarian, Mr. Ortin</td>\n      <td>male</td>\n      <td>27.0</td>\n      <td>0</td>\n      <td>0</td>\n      <td>2670</td>\n      <td>7.2250</td>\n      <td>NaN</td>\n      <td>C</td>\n      <td>NaN</td>\n      <td>NaN</td>\n      <td>NaN</td>\n    </tr>\n    <tr>\n      <th>1308</th>\n      <td>3</td>\n      <td>0</td>\n      <td>Zimmerman, Mr. Leo</td>\n      <td>male</td>\n      <td>29.0</td>\n      <td>0</td>\n      <td>0</td>\n      <td>315082</td>\n      <td>7.8750</td>\n      <td>NaN</td>\n      <td>S</td>\n      <td>NaN</td>\n      <td>NaN</td>\n      <td>NaN</td>\n    </tr>\n  </tbody>\n</table>\n</div>"
     },
     "metadata": {},
     "execution_count": 5
    }
   ],
   "source": [
    "df.tail()"
   ]
  },
  {
   "cell_type": "code",
   "execution_count": 6,
   "id": "5a8bae2a",
   "metadata": {},
   "outputs": [
    {
     "output_type": "execute_result",
     "data": {
      "text/plain": [
       "<bound method NDFrame.head of       pclass  survived                                             name  \\\n",
       "0          1         1                    Allen, Miss. Elisabeth Walton   \n",
       "1          1         1                   Allison, Master. Hudson Trevor   \n",
       "2          1         0                     Allison, Miss. Helen Loraine   \n",
       "3          1         0             Allison, Mr. Hudson Joshua Creighton   \n",
       "4          1         0  Allison, Mrs. Hudson J C (Bessie Waldo Daniels)   \n",
       "...      ...       ...                                              ...   \n",
       "1304       3         0                             Zabour, Miss. Hileni   \n",
       "1305       3         0                            Zabour, Miss. Thamine   \n",
       "1306       3         0                        Zakarian, Mr. Mapriededer   \n",
       "1307       3         0                              Zakarian, Mr. Ortin   \n",
       "1308       3         0                               Zimmerman, Mr. Leo   \n",
       "\n",
       "         sex      age  sibsp  parch  ticket      fare    cabin embarked boat  \\\n",
       "0     female  29.0000      0      0   24160  211.3375       B5        S    2   \n",
       "1       male   0.9167      1      2  113781  151.5500  C22 C26        S   11   \n",
       "2     female   2.0000      1      2  113781  151.5500  C22 C26        S  NaN   \n",
       "3       male  30.0000      1      2  113781  151.5500  C22 C26        S  NaN   \n",
       "4     female  25.0000      1      2  113781  151.5500  C22 C26        S  NaN   \n",
       "...      ...      ...    ...    ...     ...       ...      ...      ...  ...   \n",
       "1304  female  14.5000      1      0    2665   14.4542      NaN        C  NaN   \n",
       "1305  female      NaN      1      0    2665   14.4542      NaN        C  NaN   \n",
       "1306    male  26.5000      0      0    2656    7.2250      NaN        C  NaN   \n",
       "1307    male  27.0000      0      0    2670    7.2250      NaN        C  NaN   \n",
       "1308    male  29.0000      0      0  315082    7.8750      NaN        S  NaN   \n",
       "\n",
       "       body                        home.dest  \n",
       "0       NaN                     St Louis, MO  \n",
       "1       NaN  Montreal, PQ / Chesterville, ON  \n",
       "2       NaN  Montreal, PQ / Chesterville, ON  \n",
       "3     135.0  Montreal, PQ / Chesterville, ON  \n",
       "4       NaN  Montreal, PQ / Chesterville, ON  \n",
       "...     ...                              ...  \n",
       "1304  328.0                              NaN  \n",
       "1305    NaN                              NaN  \n",
       "1306  304.0                              NaN  \n",
       "1307    NaN                              NaN  \n",
       "1308    NaN                              NaN  \n",
       "\n",
       "[1309 rows x 14 columns]>"
      ]
     },
     "metadata": {},
     "execution_count": 6
    }
   ],
   "source": [
    "df.head"
   ]
  },
  {
   "cell_type": "code",
   "execution_count": 7,
   "id": "1b7e34a7",
   "metadata": {},
   "outputs": [
    {
     "output_type": "execute_result",
     "data": {
      "text/plain": [
       "   pclass  survived                                             name     sex  \\\n",
       "0       1         1                    Allen, Miss. Elisabeth Walton  female   \n",
       "1       1         1                   Allison, Master. Hudson Trevor    male   \n",
       "2       1         0                     Allison, Miss. Helen Loraine  female   \n",
       "3       1         0             Allison, Mr. Hudson Joshua Creighton    male   \n",
       "4       1         0  Allison, Mrs. Hudson J C (Bessie Waldo Daniels)  female   \n",
       "\n",
       "       age  sibsp  parch  ticket      fare    cabin embarked boat   body  \\\n",
       "0  29.0000      0      0   24160  211.3375       B5        S    2    NaN   \n",
       "1   0.9167      1      2  113781  151.5500  C22 C26        S   11    NaN   \n",
       "2   2.0000      1      2  113781  151.5500  C22 C26        S  NaN    NaN   \n",
       "3  30.0000      1      2  113781  151.5500  C22 C26        S  NaN  135.0   \n",
       "4  25.0000      1      2  113781  151.5500  C22 C26        S  NaN    NaN   \n",
       "\n",
       "                         home.dest  \n",
       "0                     St Louis, MO  \n",
       "1  Montreal, PQ / Chesterville, ON  \n",
       "2  Montreal, PQ / Chesterville, ON  \n",
       "3  Montreal, PQ / Chesterville, ON  \n",
       "4  Montreal, PQ / Chesterville, ON  "
      ],
      "text/html": "<div>\n<style scoped>\n    .dataframe tbody tr th:only-of-type {\n        vertical-align: middle;\n    }\n\n    .dataframe tbody tr th {\n        vertical-align: top;\n    }\n\n    .dataframe thead th {\n        text-align: right;\n    }\n</style>\n<table border=\"1\" class=\"dataframe\">\n  <thead>\n    <tr style=\"text-align: right;\">\n      <th></th>\n      <th>pclass</th>\n      <th>survived</th>\n      <th>name</th>\n      <th>sex</th>\n      <th>age</th>\n      <th>sibsp</th>\n      <th>parch</th>\n      <th>ticket</th>\n      <th>fare</th>\n      <th>cabin</th>\n      <th>embarked</th>\n      <th>boat</th>\n      <th>body</th>\n      <th>home.dest</th>\n    </tr>\n  </thead>\n  <tbody>\n    <tr>\n      <th>0</th>\n      <td>1</td>\n      <td>1</td>\n      <td>Allen, Miss. Elisabeth Walton</td>\n      <td>female</td>\n      <td>29.0000</td>\n      <td>0</td>\n      <td>0</td>\n      <td>24160</td>\n      <td>211.3375</td>\n      <td>B5</td>\n      <td>S</td>\n      <td>2</td>\n      <td>NaN</td>\n      <td>St Louis, MO</td>\n    </tr>\n    <tr>\n      <th>1</th>\n      <td>1</td>\n      <td>1</td>\n      <td>Allison, Master. Hudson Trevor</td>\n      <td>male</td>\n      <td>0.9167</td>\n      <td>1</td>\n      <td>2</td>\n      <td>113781</td>\n      <td>151.5500</td>\n      <td>C22 C26</td>\n      <td>S</td>\n      <td>11</td>\n      <td>NaN</td>\n      <td>Montreal, PQ / Chesterville, ON</td>\n    </tr>\n    <tr>\n      <th>2</th>\n      <td>1</td>\n      <td>0</td>\n      <td>Allison, Miss. Helen Loraine</td>\n      <td>female</td>\n      <td>2.0000</td>\n      <td>1</td>\n      <td>2</td>\n      <td>113781</td>\n      <td>151.5500</td>\n      <td>C22 C26</td>\n      <td>S</td>\n      <td>NaN</td>\n      <td>NaN</td>\n      <td>Montreal, PQ / Chesterville, ON</td>\n    </tr>\n    <tr>\n      <th>3</th>\n      <td>1</td>\n      <td>0</td>\n      <td>Allison, Mr. Hudson Joshua Creighton</td>\n      <td>male</td>\n      <td>30.0000</td>\n      <td>1</td>\n      <td>2</td>\n      <td>113781</td>\n      <td>151.5500</td>\n      <td>C22 C26</td>\n      <td>S</td>\n      <td>NaN</td>\n      <td>135.0</td>\n      <td>Montreal, PQ / Chesterville, ON</td>\n    </tr>\n    <tr>\n      <th>4</th>\n      <td>1</td>\n      <td>0</td>\n      <td>Allison, Mrs. Hudson J C (Bessie Waldo Daniels)</td>\n      <td>female</td>\n      <td>25.0000</td>\n      <td>1</td>\n      <td>2</td>\n      <td>113781</td>\n      <td>151.5500</td>\n      <td>C22 C26</td>\n      <td>S</td>\n      <td>NaN</td>\n      <td>NaN</td>\n      <td>Montreal, PQ / Chesterville, ON</td>\n    </tr>\n  </tbody>\n</table>\n</div>"
     },
     "metadata": {},
     "execution_count": 7
    }
   ],
   "source": [
    "df.head()\n"
   ]
  },
  {
   "cell_type": "code",
   "execution_count": 8,
   "id": "cb6e7848",
   "metadata": {},
   "outputs": [],
   "source": [
    "data2 = pd.read_csv(mainpath + \"/\" + \"customer-churn-model/Customer Churn Model.txt\")\n"
   ]
  },
  {
   "cell_type": "code",
   "execution_count": 9,
   "id": "fb31dcf8",
   "metadata": {},
   "outputs": [
    {
     "output_type": "execute_result",
     "data": {
      "text/plain": [
       "  State  Account Length  Area Code     Phone Int'l Plan VMail Plan  \\\n",
       "0    KS             128        415  382-4657         no        yes   \n",
       "1    OH             107        415  371-7191         no        yes   \n",
       "2    NJ             137        415  358-1921         no         no   \n",
       "3    OH              84        408  375-9999        yes         no   \n",
       "4    OK              75        415  330-6626        yes         no   \n",
       "\n",
       "   VMail Message  Day Mins  Day Calls  Day Charge  ...  Eve Calls  Eve Charge  \\\n",
       "0             25     265.1        110       45.07  ...         99       16.78   \n",
       "1             26     161.6        123       27.47  ...        103       16.62   \n",
       "2              0     243.4        114       41.38  ...        110       10.30   \n",
       "3              0     299.4         71       50.90  ...         88        5.26   \n",
       "4              0     166.7        113       28.34  ...        122       12.61   \n",
       "\n",
       "   Night Mins  Night Calls  Night Charge  Intl Mins  Intl Calls  Intl Charge  \\\n",
       "0       244.7           91         11.01       10.0           3         2.70   \n",
       "1       254.4          103         11.45       13.7           3         3.70   \n",
       "2       162.6          104          7.32       12.2           5         3.29   \n",
       "3       196.9           89          8.86        6.6           7         1.78   \n",
       "4       186.9          121          8.41       10.1           3         2.73   \n",
       "\n",
       "   CustServ Calls  Churn?  \n",
       "0               1  False.  \n",
       "1               1  False.  \n",
       "2               0  False.  \n",
       "3               2  False.  \n",
       "4               3  False.  \n",
       "\n",
       "[5 rows x 21 columns]"
      ],
      "text/html": "<div>\n<style scoped>\n    .dataframe tbody tr th:only-of-type {\n        vertical-align: middle;\n    }\n\n    .dataframe tbody tr th {\n        vertical-align: top;\n    }\n\n    .dataframe thead th {\n        text-align: right;\n    }\n</style>\n<table border=\"1\" class=\"dataframe\">\n  <thead>\n    <tr style=\"text-align: right;\">\n      <th></th>\n      <th>State</th>\n      <th>Account Length</th>\n      <th>Area Code</th>\n      <th>Phone</th>\n      <th>Int'l Plan</th>\n      <th>VMail Plan</th>\n      <th>VMail Message</th>\n      <th>Day Mins</th>\n      <th>Day Calls</th>\n      <th>Day Charge</th>\n      <th>...</th>\n      <th>Eve Calls</th>\n      <th>Eve Charge</th>\n      <th>Night Mins</th>\n      <th>Night Calls</th>\n      <th>Night Charge</th>\n      <th>Intl Mins</th>\n      <th>Intl Calls</th>\n      <th>Intl Charge</th>\n      <th>CustServ Calls</th>\n      <th>Churn?</th>\n    </tr>\n  </thead>\n  <tbody>\n    <tr>\n      <th>0</th>\n      <td>KS</td>\n      <td>128</td>\n      <td>415</td>\n      <td>382-4657</td>\n      <td>no</td>\n      <td>yes</td>\n      <td>25</td>\n      <td>265.1</td>\n      <td>110</td>\n      <td>45.07</td>\n      <td>...</td>\n      <td>99</td>\n      <td>16.78</td>\n      <td>244.7</td>\n      <td>91</td>\n      <td>11.01</td>\n      <td>10.0</td>\n      <td>3</td>\n      <td>2.70</td>\n      <td>1</td>\n      <td>False.</td>\n    </tr>\n    <tr>\n      <th>1</th>\n      <td>OH</td>\n      <td>107</td>\n      <td>415</td>\n      <td>371-7191</td>\n      <td>no</td>\n      <td>yes</td>\n      <td>26</td>\n      <td>161.6</td>\n      <td>123</td>\n      <td>27.47</td>\n      <td>...</td>\n      <td>103</td>\n      <td>16.62</td>\n      <td>254.4</td>\n      <td>103</td>\n      <td>11.45</td>\n      <td>13.7</td>\n      <td>3</td>\n      <td>3.70</td>\n      <td>1</td>\n      <td>False.</td>\n    </tr>\n    <tr>\n      <th>2</th>\n      <td>NJ</td>\n      <td>137</td>\n      <td>415</td>\n      <td>358-1921</td>\n      <td>no</td>\n      <td>no</td>\n      <td>0</td>\n      <td>243.4</td>\n      <td>114</td>\n      <td>41.38</td>\n      <td>...</td>\n      <td>110</td>\n      <td>10.30</td>\n      <td>162.6</td>\n      <td>104</td>\n      <td>7.32</td>\n      <td>12.2</td>\n      <td>5</td>\n      <td>3.29</td>\n      <td>0</td>\n      <td>False.</td>\n    </tr>\n    <tr>\n      <th>3</th>\n      <td>OH</td>\n      <td>84</td>\n      <td>408</td>\n      <td>375-9999</td>\n      <td>yes</td>\n      <td>no</td>\n      <td>0</td>\n      <td>299.4</td>\n      <td>71</td>\n      <td>50.90</td>\n      <td>...</td>\n      <td>88</td>\n      <td>5.26</td>\n      <td>196.9</td>\n      <td>89</td>\n      <td>8.86</td>\n      <td>6.6</td>\n      <td>7</td>\n      <td>1.78</td>\n      <td>2</td>\n      <td>False.</td>\n    </tr>\n    <tr>\n      <th>4</th>\n      <td>OK</td>\n      <td>75</td>\n      <td>415</td>\n      <td>330-6626</td>\n      <td>yes</td>\n      <td>no</td>\n      <td>0</td>\n      <td>166.7</td>\n      <td>113</td>\n      <td>28.34</td>\n      <td>...</td>\n      <td>122</td>\n      <td>12.61</td>\n      <td>186.9</td>\n      <td>121</td>\n      <td>8.41</td>\n      <td>10.1</td>\n      <td>3</td>\n      <td>2.73</td>\n      <td>3</td>\n      <td>False.</td>\n    </tr>\n  </tbody>\n</table>\n<p>5 rows × 21 columns</p>\n</div>"
     },
     "metadata": {},
     "execution_count": 9
    }
   ],
   "source": [
    "data2.head()"
   ]
  },
  {
   "cell_type": "markdown",
   "id": "69ba1939",
   "metadata": {},
   "source": [
    "# mostrar valores de las columnas"
   ]
  },
  {
   "cell_type": "code",
   "execution_count": 10,
   "id": "1f9c8e1b",
   "metadata": {},
   "outputs": [
    {
     "output_type": "execute_result",
     "data": {
      "text/plain": [
       "array(['State', 'Account Length', 'Area Code', 'Phone', \"Int'l Plan\",\n",
       "       'VMail Plan', 'VMail Message', 'Day Mins', 'Day Calls',\n",
       "       'Day Charge', 'Eve Mins', 'Eve Calls', 'Eve Charge', 'Night Mins',\n",
       "       'Night Calls', 'Night Charge', 'Intl Mins', 'Intl Calls',\n",
       "       'Intl Charge', 'CustServ Calls', 'Churn?'], dtype=object)"
      ]
     },
     "metadata": {},
     "execution_count": 10
    }
   ],
   "source": [
    "data2.columns.values"
   ]
  },
  {
   "cell_type": "markdown",
   "id": "8825fa62",
   "metadata": {},
   "source": [
    "## cambiar cabecera"
   ]
  },
  {
   "cell_type": "code",
   "execution_count": 11,
   "id": "c74e4a68",
   "metadata": {},
   "outputs": [
    {
     "output_type": "execute_result",
     "data": {
      "text/plain": [
       "       A               B          C         D           E           F  \\\n",
       "0  State  Account Length  Area Code     Phone  Int'l Plan  VMail Plan   \n",
       "1     KS             128        415  382-4657          no         yes   \n",
       "2     OH             107        415  371-7191          no         yes   \n",
       "3     NJ             137        415  358-1921          no          no   \n",
       "4     OH              84        408  375-9999         yes          no   \n",
       "\n",
       "               G           H          I           J  ...          L  \\\n",
       "0  VMail Message    Day Mins  Day Calls  Day Charge  ...  Eve Calls   \n",
       "1             25  265.100000        110   45.070000  ...         99   \n",
       "2             26  161.600000        123   27.470000  ...        103   \n",
       "3              0  243.400000        114   41.380000  ...        110   \n",
       "4              0  299.400000         71   50.900000  ...         88   \n",
       "\n",
       "            M           N            O             P          Q           R  \\\n",
       "0  Eve Charge  Night Mins  Night Calls  Night Charge  Intl Mins  Intl Calls   \n",
       "1   16.780000  244.700000           91     11.010000  10.000000           3   \n",
       "2   16.620000  254.400000          103     11.450000  13.700000           3   \n",
       "3   10.300000  162.600000          104      7.320000  12.200000           5   \n",
       "4    5.260000  196.900000           89      8.860000   6.600000           7   \n",
       "\n",
       "             S               T       U  \n",
       "0  Intl Charge  CustServ Calls  Churn?  \n",
       "1     2.700000               1  False.  \n",
       "2     3.700000               1  False.  \n",
       "3     3.290000               0  False.  \n",
       "4     1.780000               2  False.  \n",
       "\n",
       "[5 rows x 21 columns]"
      ],
      "text/html": "<div>\n<style scoped>\n    .dataframe tbody tr th:only-of-type {\n        vertical-align: middle;\n    }\n\n    .dataframe tbody tr th {\n        vertical-align: top;\n    }\n\n    .dataframe thead th {\n        text-align: right;\n    }\n</style>\n<table border=\"1\" class=\"dataframe\">\n  <thead>\n    <tr style=\"text-align: right;\">\n      <th></th>\n      <th>A</th>\n      <th>B</th>\n      <th>C</th>\n      <th>D</th>\n      <th>E</th>\n      <th>F</th>\n      <th>G</th>\n      <th>H</th>\n      <th>I</th>\n      <th>J</th>\n      <th>...</th>\n      <th>L</th>\n      <th>M</th>\n      <th>N</th>\n      <th>O</th>\n      <th>P</th>\n      <th>Q</th>\n      <th>R</th>\n      <th>S</th>\n      <th>T</th>\n      <th>U</th>\n    </tr>\n  </thead>\n  <tbody>\n    <tr>\n      <th>0</th>\n      <td>State</td>\n      <td>Account Length</td>\n      <td>Area Code</td>\n      <td>Phone</td>\n      <td>Int'l Plan</td>\n      <td>VMail Plan</td>\n      <td>VMail Message</td>\n      <td>Day Mins</td>\n      <td>Day Calls</td>\n      <td>Day Charge</td>\n      <td>...</td>\n      <td>Eve Calls</td>\n      <td>Eve Charge</td>\n      <td>Night Mins</td>\n      <td>Night Calls</td>\n      <td>Night Charge</td>\n      <td>Intl Mins</td>\n      <td>Intl Calls</td>\n      <td>Intl Charge</td>\n      <td>CustServ Calls</td>\n      <td>Churn?</td>\n    </tr>\n    <tr>\n      <th>1</th>\n      <td>KS</td>\n      <td>128</td>\n      <td>415</td>\n      <td>382-4657</td>\n      <td>no</td>\n      <td>yes</td>\n      <td>25</td>\n      <td>265.100000</td>\n      <td>110</td>\n      <td>45.070000</td>\n      <td>...</td>\n      <td>99</td>\n      <td>16.780000</td>\n      <td>244.700000</td>\n      <td>91</td>\n      <td>11.010000</td>\n      <td>10.000000</td>\n      <td>3</td>\n      <td>2.700000</td>\n      <td>1</td>\n      <td>False.</td>\n    </tr>\n    <tr>\n      <th>2</th>\n      <td>OH</td>\n      <td>107</td>\n      <td>415</td>\n      <td>371-7191</td>\n      <td>no</td>\n      <td>yes</td>\n      <td>26</td>\n      <td>161.600000</td>\n      <td>123</td>\n      <td>27.470000</td>\n      <td>...</td>\n      <td>103</td>\n      <td>16.620000</td>\n      <td>254.400000</td>\n      <td>103</td>\n      <td>11.450000</td>\n      <td>13.700000</td>\n      <td>3</td>\n      <td>3.700000</td>\n      <td>1</td>\n      <td>False.</td>\n    </tr>\n    <tr>\n      <th>3</th>\n      <td>NJ</td>\n      <td>137</td>\n      <td>415</td>\n      <td>358-1921</td>\n      <td>no</td>\n      <td>no</td>\n      <td>0</td>\n      <td>243.400000</td>\n      <td>114</td>\n      <td>41.380000</td>\n      <td>...</td>\n      <td>110</td>\n      <td>10.300000</td>\n      <td>162.600000</td>\n      <td>104</td>\n      <td>7.320000</td>\n      <td>12.200000</td>\n      <td>5</td>\n      <td>3.290000</td>\n      <td>0</td>\n      <td>False.</td>\n    </tr>\n    <tr>\n      <th>4</th>\n      <td>OH</td>\n      <td>84</td>\n      <td>408</td>\n      <td>375-9999</td>\n      <td>yes</td>\n      <td>no</td>\n      <td>0</td>\n      <td>299.400000</td>\n      <td>71</td>\n      <td>50.900000</td>\n      <td>...</td>\n      <td>88</td>\n      <td>5.260000</td>\n      <td>196.900000</td>\n      <td>89</td>\n      <td>8.860000</td>\n      <td>6.600000</td>\n      <td>7</td>\n      <td>1.780000</td>\n      <td>2</td>\n      <td>False.</td>\n    </tr>\n  </tbody>\n</table>\n<p>5 rows × 21 columns</p>\n</div>"
     },
     "metadata": {},
     "execution_count": 11
    }
   ],
   "source": [
    "data_cols = pd.read_csv(mainpath + \"/\" + \"customer-churn-model/Customer Churn Columns.csv\")\n",
    "data_col_list = data_cols[\"Column_Names\"].to_list()\n",
    "data2 = pd.read_csv(mainpath + \"/\" + \"customer-churn-model/Customer Churn Model.txt\", header=None, names=data_col_list)\n",
    "data2.columns.values\n",
    "data2.head()\n"
   ]
  },
  {
   "cell_type": "markdown",
   "id": "d2b3b3f3",
   "metadata": {},
   "source": [
    "## metodo open, ejemplos"
   ]
  },
  {
   "cell_type": "code",
   "execution_count": 12,
   "id": "68e1ffdc",
   "metadata": {
    "scrolled": false
   },
   "outputs": [
    {
     "output_type": "execute_result",
     "data": {
      "text/plain": [
       "['State',\n",
       " 'Account Length',\n",
       " 'Area Code',\n",
       " 'Phone',\n",
       " \"Int'l Plan\",\n",
       " 'VMail Plan',\n",
       " 'VMail Message',\n",
       " 'Day Mins',\n",
       " 'Day Calls',\n",
       " 'Day Charge',\n",
       " 'Eve Mins',\n",
       " 'Eve Calls',\n",
       " 'Eve Charge',\n",
       " 'Night Mins',\n",
       " 'Night Calls',\n",
       " 'Night Charge',\n",
       " 'Intl Mins',\n",
       " 'Intl Calls',\n",
       " 'Intl Charge',\n",
       " 'CustServ Calls',\n",
       " 'Churn?']"
      ]
     },
     "metadata": {},
     "execution_count": 12
    }
   ],
   "source": [
    "data3 = open(mainpath + \"/\" + \"customer-churn-model/Customer Churn Model.txt\",\"r\")\n",
    "cols = data3.readline().strip().split(\",\")\n",
    "cols"
   ]
  },
  {
   "cell_type": "code",
   "execution_count": 13,
   "metadata": {},
   "outputs": [
    {
     "output_type": "execute_result",
     "data": {
      "text/plain": [
       "21"
      ]
     },
     "metadata": {},
     "execution_count": 13
    }
   ],
   "source": [
    "n_cols = len(cols)\n",
    "n_cols"
   ]
  },
  {
   "source": [
    "### encontrar numero de filas"
   ],
   "cell_type": "markdown",
   "metadata": {}
  },
  {
   "cell_type": "code",
   "execution_count": 14,
   "metadata": {},
   "outputs": [],
   "source": [
    "counter = 0\n",
    "main_dict = {}\n",
    "for col in cols:\n",
    "    main_dict[col] = []"
   ]
  },
  {
   "cell_type": "code",
   "execution_count": 15,
   "metadata": {},
   "outputs": [
    {
     "output_type": "execute_result",
     "data": {
      "text/plain": [
       "{'State': [],\n",
       " 'Account Length': [],\n",
       " 'Area Code': [],\n",
       " 'Phone': [],\n",
       " \"Int'l Plan\": [],\n",
       " 'VMail Plan': [],\n",
       " 'VMail Message': [],\n",
       " 'Day Mins': [],\n",
       " 'Day Calls': [],\n",
       " 'Day Charge': [],\n",
       " 'Eve Mins': [],\n",
       " 'Eve Calls': [],\n",
       " 'Eve Charge': [],\n",
       " 'Night Mins': [],\n",
       " 'Night Calls': [],\n",
       " 'Night Charge': [],\n",
       " 'Intl Mins': [],\n",
       " 'Intl Calls': [],\n",
       " 'Intl Charge': [],\n",
       " 'CustServ Calls': [],\n",
       " 'Churn?': []}"
      ]
     },
     "metadata": {},
     "execution_count": 15
    }
   ],
   "source": [
    "main_dict"
   ]
  },
  {
   "cell_type": "code",
   "execution_count": 16,
   "metadata": {},
   "outputs": [
    {
     "output_type": "stream",
     "name": "stdout",
     "text": [
      " el dataset tiene 3333 filas y 21 columnas\n"
     ]
    }
   ],
   "source": [
    "for line in data3:\n",
    "    values = line.strip().split(\",\")\n",
    "    for i in range(len(cols)):\n",
    "        main_dict[cols[i]].append(values[i])\n",
    "    counter = counter + 1\n",
    "print(\" el dataset tiene %d filas y %d columnas\"%(counter, n_cols))"
   ]
  },
  {
   "source": [
    "### pasar a dataframe"
   ],
   "cell_type": "markdown",
   "metadata": {}
  },
  {
   "cell_type": "code",
   "execution_count": 17,
   "metadata": {},
   "outputs": [
    {
     "output_type": "execute_result",
     "data": {
      "text/plain": [
       "  State Account Length Area Code     Phone Int'l Plan VMail Plan  \\\n",
       "0    KS            128       415  382-4657         no        yes   \n",
       "1    OH            107       415  371-7191         no        yes   \n",
       "2    NJ            137       415  358-1921         no         no   \n",
       "3    OH             84       408  375-9999        yes         no   \n",
       "4    OK             75       415  330-6626        yes         no   \n",
       "\n",
       "  VMail Message    Day Mins Day Calls Day Charge  ... Eve Calls Eve Charge  \\\n",
       "0            25  265.100000       110  45.070000  ...        99  16.780000   \n",
       "1            26  161.600000       123  27.470000  ...       103  16.620000   \n",
       "2             0  243.400000       114  41.380000  ...       110  10.300000   \n",
       "3             0  299.400000        71  50.900000  ...        88   5.260000   \n",
       "4             0  166.700000       113  28.340000  ...       122  12.610000   \n",
       "\n",
       "   Night Mins Night Calls Night Charge  Intl Mins Intl Calls Intl Charge  \\\n",
       "0  244.700000          91    11.010000  10.000000          3    2.700000   \n",
       "1  254.400000         103    11.450000  13.700000          3    3.700000   \n",
       "2  162.600000         104     7.320000  12.200000          5    3.290000   \n",
       "3  196.900000          89     8.860000   6.600000          7    1.780000   \n",
       "4  186.900000         121     8.410000  10.100000          3    2.730000   \n",
       "\n",
       "  CustServ Calls  Churn?  \n",
       "0              1  False.  \n",
       "1              1  False.  \n",
       "2              0  False.  \n",
       "3              2  False.  \n",
       "4              3  False.  \n",
       "\n",
       "[5 rows x 21 columns]"
      ],
      "text/html": "<div>\n<style scoped>\n    .dataframe tbody tr th:only-of-type {\n        vertical-align: middle;\n    }\n\n    .dataframe tbody tr th {\n        vertical-align: top;\n    }\n\n    .dataframe thead th {\n        text-align: right;\n    }\n</style>\n<table border=\"1\" class=\"dataframe\">\n  <thead>\n    <tr style=\"text-align: right;\">\n      <th></th>\n      <th>State</th>\n      <th>Account Length</th>\n      <th>Area Code</th>\n      <th>Phone</th>\n      <th>Int'l Plan</th>\n      <th>VMail Plan</th>\n      <th>VMail Message</th>\n      <th>Day Mins</th>\n      <th>Day Calls</th>\n      <th>Day Charge</th>\n      <th>...</th>\n      <th>Eve Calls</th>\n      <th>Eve Charge</th>\n      <th>Night Mins</th>\n      <th>Night Calls</th>\n      <th>Night Charge</th>\n      <th>Intl Mins</th>\n      <th>Intl Calls</th>\n      <th>Intl Charge</th>\n      <th>CustServ Calls</th>\n      <th>Churn?</th>\n    </tr>\n  </thead>\n  <tbody>\n    <tr>\n      <th>0</th>\n      <td>KS</td>\n      <td>128</td>\n      <td>415</td>\n      <td>382-4657</td>\n      <td>no</td>\n      <td>yes</td>\n      <td>25</td>\n      <td>265.100000</td>\n      <td>110</td>\n      <td>45.070000</td>\n      <td>...</td>\n      <td>99</td>\n      <td>16.780000</td>\n      <td>244.700000</td>\n      <td>91</td>\n      <td>11.010000</td>\n      <td>10.000000</td>\n      <td>3</td>\n      <td>2.700000</td>\n      <td>1</td>\n      <td>False.</td>\n    </tr>\n    <tr>\n      <th>1</th>\n      <td>OH</td>\n      <td>107</td>\n      <td>415</td>\n      <td>371-7191</td>\n      <td>no</td>\n      <td>yes</td>\n      <td>26</td>\n      <td>161.600000</td>\n      <td>123</td>\n      <td>27.470000</td>\n      <td>...</td>\n      <td>103</td>\n      <td>16.620000</td>\n      <td>254.400000</td>\n      <td>103</td>\n      <td>11.450000</td>\n      <td>13.700000</td>\n      <td>3</td>\n      <td>3.700000</td>\n      <td>1</td>\n      <td>False.</td>\n    </tr>\n    <tr>\n      <th>2</th>\n      <td>NJ</td>\n      <td>137</td>\n      <td>415</td>\n      <td>358-1921</td>\n      <td>no</td>\n      <td>no</td>\n      <td>0</td>\n      <td>243.400000</td>\n      <td>114</td>\n      <td>41.380000</td>\n      <td>...</td>\n      <td>110</td>\n      <td>10.300000</td>\n      <td>162.600000</td>\n      <td>104</td>\n      <td>7.320000</td>\n      <td>12.200000</td>\n      <td>5</td>\n      <td>3.290000</td>\n      <td>0</td>\n      <td>False.</td>\n    </tr>\n    <tr>\n      <th>3</th>\n      <td>OH</td>\n      <td>84</td>\n      <td>408</td>\n      <td>375-9999</td>\n      <td>yes</td>\n      <td>no</td>\n      <td>0</td>\n      <td>299.400000</td>\n      <td>71</td>\n      <td>50.900000</td>\n      <td>...</td>\n      <td>88</td>\n      <td>5.260000</td>\n      <td>196.900000</td>\n      <td>89</td>\n      <td>8.860000</td>\n      <td>6.600000</td>\n      <td>7</td>\n      <td>1.780000</td>\n      <td>2</td>\n      <td>False.</td>\n    </tr>\n    <tr>\n      <th>4</th>\n      <td>OK</td>\n      <td>75</td>\n      <td>415</td>\n      <td>330-6626</td>\n      <td>yes</td>\n      <td>no</td>\n      <td>0</td>\n      <td>166.700000</td>\n      <td>113</td>\n      <td>28.340000</td>\n      <td>...</td>\n      <td>122</td>\n      <td>12.610000</td>\n      <td>186.900000</td>\n      <td>121</td>\n      <td>8.410000</td>\n      <td>10.100000</td>\n      <td>3</td>\n      <td>2.730000</td>\n      <td>3</td>\n      <td>False.</td>\n    </tr>\n  </tbody>\n</table>\n<p>5 rows × 21 columns</p>\n</div>"
     },
     "metadata": {},
     "execution_count": 17
    }
   ],
   "source": [
    "df3 = pd.DataFrame(main_dict)\n",
    "df3.head()"
   ]
  },
  {
   "source": [
    "## lectura y escritura de ficheros con python :whale:\n"
   ],
   "cell_type": "markdown",
   "metadata": {}
  },
  {
   "cell_type": "code",
   "execution_count": 18,
   "metadata": {},
   "outputs": [
    {
     "output_type": "execute_result",
     "data": {
      "text/plain": [
       "'/home/lexus72/github/python-ml-course/datasets/customer-churn-model/Customer Churn Model.txt'"
      ]
     },
     "metadata": {},
     "execution_count": 18
    }
   ],
   "source": [
    "infile = mainpath + \"/\" + \"customer-churn-model/Customer Churn Model.txt\"\n",
    "outfile = mainpath + \"/\" + \"customer-churn-model/tab Customer Churn Model.txt\"\n",
    "infile"
   ]
  },
  {
   "cell_type": "code",
   "execution_count": 19,
   "metadata": {},
   "outputs": [],
   "source": [
    "with open(infile, \"r\") as infile1:\n",
    "    with open(outfile, \"w\") as outfile1:\n",
    "        for line in infile1:\n",
    "            fields = line.strip().split(\",\")\n",
    "            outfile1.write(\"\\t\".join(fields))\n",
    "            outfile1.write(\"\\n\")"
   ]
  },
  {
   "cell_type": "code",
   "execution_count": 20,
   "metadata": {},
   "outputs": [
    {
     "output_type": "execute_result",
     "data": {
      "text/plain": [
       "     State  Account Length  Area Code     Phone Int'l Plan VMail Plan  \\\n",
       "0       KS             128        415  382-4657         no        yes   \n",
       "1       OH             107        415  371-7191         no        yes   \n",
       "2       NJ             137        415  358-1921         no         no   \n",
       "3       OH              84        408  375-9999        yes         no   \n",
       "4       OK              75        415  330-6626        yes         no   \n",
       "...    ...             ...        ...       ...        ...        ...   \n",
       "3328    AZ             192        415  414-4276         no        yes   \n",
       "3329    WV              68        415  370-3271         no         no   \n",
       "3330    RI              28        510  328-8230         no         no   \n",
       "3331    CT             184        510  364-6381        yes         no   \n",
       "3332    TN              74        415  400-4344         no        yes   \n",
       "\n",
       "      VMail Message  Day Mins  Day Calls  Day Charge  ...  Eve Calls  \\\n",
       "0                25     265.1        110       45.07  ...         99   \n",
       "1                26     161.6        123       27.47  ...        103   \n",
       "2                 0     243.4        114       41.38  ...        110   \n",
       "3                 0     299.4         71       50.90  ...         88   \n",
       "4                 0     166.7        113       28.34  ...        122   \n",
       "...             ...       ...        ...         ...  ...        ...   \n",
       "3328             36     156.2         77       26.55  ...        126   \n",
       "3329              0     231.1         57       39.29  ...         55   \n",
       "3330              0     180.8        109       30.74  ...         58   \n",
       "3331              0     213.8        105       36.35  ...         84   \n",
       "3332             25     234.4        113       39.85  ...         82   \n",
       "\n",
       "      Eve Charge  Night Mins  Night Calls  Night Charge  Intl Mins  \\\n",
       "0          16.78       244.7           91         11.01       10.0   \n",
       "1          16.62       254.4          103         11.45       13.7   \n",
       "2          10.30       162.6          104          7.32       12.2   \n",
       "3           5.26       196.9           89          8.86        6.6   \n",
       "4          12.61       186.9          121          8.41       10.1   \n",
       "...          ...         ...          ...           ...        ...   \n",
       "3328       18.32       279.1           83         12.56        9.9   \n",
       "3329       13.04       191.3          123          8.61        9.6   \n",
       "3330       24.55       191.9           91          8.64       14.1   \n",
       "3331       13.57       139.2          137          6.26        5.0   \n",
       "3332       22.60       241.4           77         10.86       13.7   \n",
       "\n",
       "      Intl Calls  Intl Charge  CustServ Calls  Churn?  \n",
       "0              3         2.70               1  False.  \n",
       "1              3         3.70               1  False.  \n",
       "2              5         3.29               0  False.  \n",
       "3              7         1.78               2  False.  \n",
       "4              3         2.73               3  False.  \n",
       "...          ...          ...             ...     ...  \n",
       "3328           6         2.67               2  False.  \n",
       "3329           4         2.59               3  False.  \n",
       "3330           6         3.81               2  False.  \n",
       "3331          10         1.35               2  False.  \n",
       "3332           4         3.70               0  False.  \n",
       "\n",
       "[3333 rows x 21 columns]"
      ],
      "text/html": "<div>\n<style scoped>\n    .dataframe tbody tr th:only-of-type {\n        vertical-align: middle;\n    }\n\n    .dataframe tbody tr th {\n        vertical-align: top;\n    }\n\n    .dataframe thead th {\n        text-align: right;\n    }\n</style>\n<table border=\"1\" class=\"dataframe\">\n  <thead>\n    <tr style=\"text-align: right;\">\n      <th></th>\n      <th>State</th>\n      <th>Account Length</th>\n      <th>Area Code</th>\n      <th>Phone</th>\n      <th>Int'l Plan</th>\n      <th>VMail Plan</th>\n      <th>VMail Message</th>\n      <th>Day Mins</th>\n      <th>Day Calls</th>\n      <th>Day Charge</th>\n      <th>...</th>\n      <th>Eve Calls</th>\n      <th>Eve Charge</th>\n      <th>Night Mins</th>\n      <th>Night Calls</th>\n      <th>Night Charge</th>\n      <th>Intl Mins</th>\n      <th>Intl Calls</th>\n      <th>Intl Charge</th>\n      <th>CustServ Calls</th>\n      <th>Churn?</th>\n    </tr>\n  </thead>\n  <tbody>\n    <tr>\n      <th>0</th>\n      <td>KS</td>\n      <td>128</td>\n      <td>415</td>\n      <td>382-4657</td>\n      <td>no</td>\n      <td>yes</td>\n      <td>25</td>\n      <td>265.1</td>\n      <td>110</td>\n      <td>45.07</td>\n      <td>...</td>\n      <td>99</td>\n      <td>16.78</td>\n      <td>244.7</td>\n      <td>91</td>\n      <td>11.01</td>\n      <td>10.0</td>\n      <td>3</td>\n      <td>2.70</td>\n      <td>1</td>\n      <td>False.</td>\n    </tr>\n    <tr>\n      <th>1</th>\n      <td>OH</td>\n      <td>107</td>\n      <td>415</td>\n      <td>371-7191</td>\n      <td>no</td>\n      <td>yes</td>\n      <td>26</td>\n      <td>161.6</td>\n      <td>123</td>\n      <td>27.47</td>\n      <td>...</td>\n      <td>103</td>\n      <td>16.62</td>\n      <td>254.4</td>\n      <td>103</td>\n      <td>11.45</td>\n      <td>13.7</td>\n      <td>3</td>\n      <td>3.70</td>\n      <td>1</td>\n      <td>False.</td>\n    </tr>\n    <tr>\n      <th>2</th>\n      <td>NJ</td>\n      <td>137</td>\n      <td>415</td>\n      <td>358-1921</td>\n      <td>no</td>\n      <td>no</td>\n      <td>0</td>\n      <td>243.4</td>\n      <td>114</td>\n      <td>41.38</td>\n      <td>...</td>\n      <td>110</td>\n      <td>10.30</td>\n      <td>162.6</td>\n      <td>104</td>\n      <td>7.32</td>\n      <td>12.2</td>\n      <td>5</td>\n      <td>3.29</td>\n      <td>0</td>\n      <td>False.</td>\n    </tr>\n    <tr>\n      <th>3</th>\n      <td>OH</td>\n      <td>84</td>\n      <td>408</td>\n      <td>375-9999</td>\n      <td>yes</td>\n      <td>no</td>\n      <td>0</td>\n      <td>299.4</td>\n      <td>71</td>\n      <td>50.90</td>\n      <td>...</td>\n      <td>88</td>\n      <td>5.26</td>\n      <td>196.9</td>\n      <td>89</td>\n      <td>8.86</td>\n      <td>6.6</td>\n      <td>7</td>\n      <td>1.78</td>\n      <td>2</td>\n      <td>False.</td>\n    </tr>\n    <tr>\n      <th>4</th>\n      <td>OK</td>\n      <td>75</td>\n      <td>415</td>\n      <td>330-6626</td>\n      <td>yes</td>\n      <td>no</td>\n      <td>0</td>\n      <td>166.7</td>\n      <td>113</td>\n      <td>28.34</td>\n      <td>...</td>\n      <td>122</td>\n      <td>12.61</td>\n      <td>186.9</td>\n      <td>121</td>\n      <td>8.41</td>\n      <td>10.1</td>\n      <td>3</td>\n      <td>2.73</td>\n      <td>3</td>\n      <td>False.</td>\n    </tr>\n    <tr>\n      <th>...</th>\n      <td>...</td>\n      <td>...</td>\n      <td>...</td>\n      <td>...</td>\n      <td>...</td>\n      <td>...</td>\n      <td>...</td>\n      <td>...</td>\n      <td>...</td>\n      <td>...</td>\n      <td>...</td>\n      <td>...</td>\n      <td>...</td>\n      <td>...</td>\n      <td>...</td>\n      <td>...</td>\n      <td>...</td>\n      <td>...</td>\n      <td>...</td>\n      <td>...</td>\n      <td>...</td>\n    </tr>\n    <tr>\n      <th>3328</th>\n      <td>AZ</td>\n      <td>192</td>\n      <td>415</td>\n      <td>414-4276</td>\n      <td>no</td>\n      <td>yes</td>\n      <td>36</td>\n      <td>156.2</td>\n      <td>77</td>\n      <td>26.55</td>\n      <td>...</td>\n      <td>126</td>\n      <td>18.32</td>\n      <td>279.1</td>\n      <td>83</td>\n      <td>12.56</td>\n      <td>9.9</td>\n      <td>6</td>\n      <td>2.67</td>\n      <td>2</td>\n      <td>False.</td>\n    </tr>\n    <tr>\n      <th>3329</th>\n      <td>WV</td>\n      <td>68</td>\n      <td>415</td>\n      <td>370-3271</td>\n      <td>no</td>\n      <td>no</td>\n      <td>0</td>\n      <td>231.1</td>\n      <td>57</td>\n      <td>39.29</td>\n      <td>...</td>\n      <td>55</td>\n      <td>13.04</td>\n      <td>191.3</td>\n      <td>123</td>\n      <td>8.61</td>\n      <td>9.6</td>\n      <td>4</td>\n      <td>2.59</td>\n      <td>3</td>\n      <td>False.</td>\n    </tr>\n    <tr>\n      <th>3330</th>\n      <td>RI</td>\n      <td>28</td>\n      <td>510</td>\n      <td>328-8230</td>\n      <td>no</td>\n      <td>no</td>\n      <td>0</td>\n      <td>180.8</td>\n      <td>109</td>\n      <td>30.74</td>\n      <td>...</td>\n      <td>58</td>\n      <td>24.55</td>\n      <td>191.9</td>\n      <td>91</td>\n      <td>8.64</td>\n      <td>14.1</td>\n      <td>6</td>\n      <td>3.81</td>\n      <td>2</td>\n      <td>False.</td>\n    </tr>\n    <tr>\n      <th>3331</th>\n      <td>CT</td>\n      <td>184</td>\n      <td>510</td>\n      <td>364-6381</td>\n      <td>yes</td>\n      <td>no</td>\n      <td>0</td>\n      <td>213.8</td>\n      <td>105</td>\n      <td>36.35</td>\n      <td>...</td>\n      <td>84</td>\n      <td>13.57</td>\n      <td>139.2</td>\n      <td>137</td>\n      <td>6.26</td>\n      <td>5.0</td>\n      <td>10</td>\n      <td>1.35</td>\n      <td>2</td>\n      <td>False.</td>\n    </tr>\n    <tr>\n      <th>3332</th>\n      <td>TN</td>\n      <td>74</td>\n      <td>415</td>\n      <td>400-4344</td>\n      <td>no</td>\n      <td>yes</td>\n      <td>25</td>\n      <td>234.4</td>\n      <td>113</td>\n      <td>39.85</td>\n      <td>...</td>\n      <td>82</td>\n      <td>22.60</td>\n      <td>241.4</td>\n      <td>77</td>\n      <td>10.86</td>\n      <td>13.7</td>\n      <td>4</td>\n      <td>3.70</td>\n      <td>0</td>\n      <td>False.</td>\n    </tr>\n  </tbody>\n</table>\n<p>3333 rows × 21 columns</p>\n</div>"
     },
     "metadata": {},
     "execution_count": 20
    }
   ],
   "source": [
    "df4 = pd.read_csv(outfile, sep=\"\\t\")\n",
    "df4"
   ]
  },
  {
   "source": [
    "## leer datos desde una URL"
   ],
   "cell_type": "markdown",
   "metadata": {}
  },
  {
   "cell_type": "code",
   "execution_count": 33,
   "metadata": {},
   "outputs": [
    {
     "output_type": "execute_result",
     "data": {
      "text/plain": [
       "   Year      City       Sport      Discipline  NOC       Event Event gender  \\\n",
       "0  1924  Chamonix     Skating  Figure skating  AUT  individual            M   \n",
       "1  1924  Chamonix     Skating  Figure skating  AUT  individual            W   \n",
       "2  1924  Chamonix     Skating  Figure skating  AUT       pairs            X   \n",
       "3  1924  Chamonix   Bobsleigh       Bobsleigh  BEL    four-man            M   \n",
       "4  1924  Chamonix  Ice Hockey      Ice Hockey  CAN  ice hockey            M   \n",
       "\n",
       "    Medal  \n",
       "0  Silver  \n",
       "1    Gold  \n",
       "2    Gold  \n",
       "3  Bronze  \n",
       "4    Gold  "
      ],
      "text/html": "<div>\n<style scoped>\n    .dataframe tbody tr th:only-of-type {\n        vertical-align: middle;\n    }\n\n    .dataframe tbody tr th {\n        vertical-align: top;\n    }\n\n    .dataframe thead th {\n        text-align: right;\n    }\n</style>\n<table border=\"1\" class=\"dataframe\">\n  <thead>\n    <tr style=\"text-align: right;\">\n      <th></th>\n      <th>Year</th>\n      <th>City</th>\n      <th>Sport</th>\n      <th>Discipline</th>\n      <th>NOC</th>\n      <th>Event</th>\n      <th>Event gender</th>\n      <th>Medal</th>\n    </tr>\n  </thead>\n  <tbody>\n    <tr>\n      <th>0</th>\n      <td>1924</td>\n      <td>Chamonix</td>\n      <td>Skating</td>\n      <td>Figure skating</td>\n      <td>AUT</td>\n      <td>individual</td>\n      <td>M</td>\n      <td>Silver</td>\n    </tr>\n    <tr>\n      <th>1</th>\n      <td>1924</td>\n      <td>Chamonix</td>\n      <td>Skating</td>\n      <td>Figure skating</td>\n      <td>AUT</td>\n      <td>individual</td>\n      <td>W</td>\n      <td>Gold</td>\n    </tr>\n    <tr>\n      <th>2</th>\n      <td>1924</td>\n      <td>Chamonix</td>\n      <td>Skating</td>\n      <td>Figure skating</td>\n      <td>AUT</td>\n      <td>pairs</td>\n      <td>X</td>\n      <td>Gold</td>\n    </tr>\n    <tr>\n      <th>3</th>\n      <td>1924</td>\n      <td>Chamonix</td>\n      <td>Bobsleigh</td>\n      <td>Bobsleigh</td>\n      <td>BEL</td>\n      <td>four-man</td>\n      <td>M</td>\n      <td>Bronze</td>\n    </tr>\n    <tr>\n      <th>4</th>\n      <td>1924</td>\n      <td>Chamonix</td>\n      <td>Ice Hockey</td>\n      <td>Ice Hockey</td>\n      <td>CAN</td>\n      <td>ice hockey</td>\n      <td>M</td>\n      <td>Gold</td>\n    </tr>\n  </tbody>\n</table>\n</div>"
     },
     "metadata": {},
     "execution_count": 33
    }
   ],
   "source": [
    "medals_url = \"http://winterolympicsmedals.com/medals.csv\"\n",
    "medals_data = pd.read_csv(medals_url)\n",
    "medals_data.head()"
   ]
  },
  {
   "source": [
    "## importar y usar librerias csv y urllib3"
   ],
   "cell_type": "markdown",
   "metadata": {}
  },
  {
   "cell_type": "code",
   "execution_count": 24,
   "metadata": {},
   "outputs": [],
   "source": [
    "import csv\n",
    "import urllib3"
   ]
  },
  {
   "cell_type": "code",
   "execution_count": 25,
   "metadata": {},
   "outputs": [
    {
     "output_type": "execute_result",
     "data": {
      "text/plain": [
       ",5000m,M,Gold\\n2002,Salt Lake City,Skating,Speed skating,NED,5000m,W,Silver\\n2002,Salt Lake City,Biathlon,Biathlon,NOR,10km,M,Gold\\n2002,Salt Lake City,Biathlon,Biathlon,NOR,12.5km pursuit,M,Gold\\n2002,Salt Lake City,Biathlon,Biathlon,NOR,15km,W,Silver\\n2002,Salt Lake City,Biathlon,Biathlon,NOR,20km,M,Gold\\n2002,Salt Lake City,Biathlon,Biathlon,NOR,4x7.5km relay,M,Gold\\n2002,Salt Lake City,Biathlon,Biathlon,NOR,4x7.5km relay,W,Silver\\n2002,Salt Lake City,Curling,Curling,NOR,curling,M,Gold\\n2002,Salt Lake City,Skating,Speed skating,NOR,10000m,M,Bronze\\n2002,Salt Lake City,Skating,Speed skating,NOR,1500m,M,Bronze\\n2002,Salt Lake City,Skiing,Alpine Skiing,NOR,alpine combined,M,Gold\\n2002,Salt Lake City,Skiing,Alpine Skiing,NOR,downhill,M,Silver\\n2002,Salt Lake City,Skiing,Alpine Skiing,NOR,giant slalom,M,Bronze\\n2002,Salt Lake City,Skiing,Alpine Skiing,NOR,super-G,M,Gold\\n2002,Salt Lake City,Skiing,Cross Country S,NOR,10km,W,Gold\\n2002,Salt Lake City,Skiing,Cross Country S,NOR,10km pursuit,M,Gold\\n2002,Salt Lake City,Skiing,Cross Country S,NOR,10km pursuit,M,Gold\\n2002,Salt Lake City,Skiing,Cross Country S,NOR,15km,M,Silver\\n2002,Salt Lake City,Skiing,Cross Country S,NOR,30km,W,Bronze\\n2002,Salt Lake City,Skiing,Cross Country S,NOR,30km mass start,M,Bronze\\n2002,Salt Lake City,Skiing,Cross Country S,NOR,4x10km relay,M,Gold\\n2002,Salt Lake City,Skiing,Cross Country S,NOR,4x5km relay,W,Silver\\n2002,Salt Lake City,Skiing,Cross Country S,NOR,50km,M,Bronze\\n2002,Salt Lake City,Skiing,Cross Country S,NOR,Sprint 1.5km,M,Gold\\n2002,Salt Lake City,Skiing,Cross Country S,NOR,Sprint 1.5km,W,Bronze\\n2002,Salt Lake City,Skiing,Freestyle Ski.,NOR,moguls,W,Gold\\n2002,Salt Lake City,Skiing,Ski Jumping,POL,K120 individual (90m),M,Silver\\n2002,Salt Lake City,Skiing,Ski Jumping,POL,K90 individual (70m),M,Bronze\\n2002,Salt Lake City,Biathlon,Biathlon,RUS,10km pursuit,W,Gold\\n2002,Salt Lake City,Biathlon,Biathlon,RUS,20km,M,Bronze\\n2002,Salt Lake City,Biathlon,Biathlon,RUS,4x7.5km relay,W,Bronze\\n2002,Salt Lake City,Ice Hockey,Ice Hockey,RUS,ice hockey,M,Bronze\\n2002,Salt Lake City,Skating,Figure skating,RUS,ice dancing,X,Silver\\n2002,Salt Lake City,Skating,Figure skating,RUS,individual,M,Gold\\n2002,Salt Lake City,Skating,Figure skating,RUS,individual,M,Silver\\n2002,Salt Lake City,Skating,Figure skating,RUS,individual,W,Silver\\n2002,Salt Lake City,Skating,Figure skating,RUS,pairs,X,Gold\\n2002,Salt Lake City,Skiing,Cross Country S,RUS,10km,W,Silver\\n2002,Salt Lake City,Skiing,Cross Country S,RUS,15km mass start,W,Bronze\\n2002,Salt Lake City,Skiing,Cross Country S,RUS,50km,M,Gold\\n2002,Salt Lake City,Skiing,Cross Country S,RUS,sprint 1.5km,W,Gold\\n2002,Salt Lake City,Skiing,Ski Jumping,SLO,K120 team (90m),M,Bronze\\n2002,Salt Lake City,Bobsleigh,Bobsleigh,SUI,two-man,M,Bronze\\n2002,Salt Lake City,Bobsleigh,Bobsleigh,SUI,two-man,M,Silver\\n2002,Salt Lake City,Bobsleigh,Skeleton,SUI,individual,M,Bronze\\n2002,Salt Lake City,Curling,Curling,SUI,curling,M,Bronze\\n2002,Salt Lake City,Curling,Curling,SUI,curling,W,Silver\\n2002,Salt Lake City,Skiing,Alpine Skiing,SUI,giant slalom,W,Bronze\\n2002,Salt Lake City,Skiing,Cross Country S,SUI,4x5km relay,W,Bronze\\n2002,Salt Lake City,Skiing,Ski Jumping,SUI,K120 individual (90m),M,Gold\\n2002,Salt Lake City,Skiing,Ski Jumping,SUI,K90 individual (70m),M,Gold\\n2002,Salt Lake City,Skiing,Snowboard,SUI,Giant parallel slalom,M,Gold\\n2002,Salt Lake City,Skiing,Snowboard,SUI,Half-pipe,W,Bronze\\n2002,Salt Lake City,Biathlon,Biathlon,SWE,15km,W,Bronze\\n2002,Salt Lake City,Biathlon,Biathlon,SWE,7.5km,W,Bronze\\n2002,Salt Lake City,Ice Hockey,Ice Hockey,SWE,ice hockey,W,Bronze\\n2002,Salt Lake City,Skiing,Alpine Skiing,SWE,giant slalom,W,Silver\\n2002,Salt Lake City,Skiing,Alpine Skiing,SWE,slalom,W,Bronze\\n2002,Salt Lake City,Skiing,Cross Country S,SWE,10km pursuit,M,Bronze\\n2002,Salt Lake City,Skiing,Snowboard,SWE,Giant parallel slalom,M,Silver\\n2002,Salt Lake City,Bobsleigh,Bobsleigh,USA,four-man,M,Bronze\\n2002,Salt Lake City,Bobsleigh,Bobsleigh,USA,four-man,M,Silver\\n2002,Salt Lake City,Bobsleigh,Bobsleigh,USA,two-man,W,Gold\\n2002,Salt Lake City,Bobsleigh,Skeleton,USA,individual,M,Gold\\n2002,Salt Lake City,Bobsleigh,Skeleton,USA,individual,W,Gold\\n2002,Salt Lake City,Bobsleigh,Skeleton,USA,individual,W,Silver\\n2002,Salt Lake City,Ice Hockey,Ice Hockey,USA,ice hockey,M,Silver\\n2002,Salt Lake City,Ice Hockey,Ice Hockey,USA,ice hockey,W,Silver\\n2002,Salt Lake City,Luge,Luge,USA,doubles,X,Bronze\\n2002,Salt Lake City,Luge,Luge,USA,doubles,X,Silver\\n2002,Salt Lake City,Skating,Figure skating,USA,individual,M,Bronze\\n2002,Salt Lake City,Skating,Figure skating,USA,individual,W,Bronze\\n2002,Salt Lake City,Skating,Figure skating,USA,individual,W,Gold\\n2002,Salt Lake City,Skating,Short Track S.,USA,1000m,M,Silver\\n2002,Salt Lake City,Skating,Short Track S.,USA,1500m,M,Gold\\n2002,Salt Lake City,Skating,Short Track S.,USA,500m,M,Bronze\\n2002,Salt Lake City,Skating,Speed skating,USA,1000m,M,Bronze\\n2002,Salt Lake City,Skating,Speed skating,USA,1000m,W,Bronze\\n2002,Salt Lake City,Skating,Speed skating,USA,1000m,W,Gold\\n2002,Salt Lake City,Skating,Speed skating,USA,1500m,M,Gold\\n2002,Salt Lake City,Skating,Speed skating,USA,1500m,W,Bronze\\n2002,Salt Lake City,Skating,Speed skating,USA,5000m,M,Silver\\n2002,Salt Lake City,Skating,Speed skating,USA,500m,M,Bronze\\n2002,Salt Lake City,Skating,Speed skating,USA,500m,M,Gold\\n2002,Salt Lake City,Skiing,Alpine Skiing,USA,alpine combined,M,Silver\\n2002,Salt Lake City,Skiing,Alpine Skiing,USA,giant slalom,M,Silver\\n2002,Salt Lake City,Skiing,Freestyle Ski.,USA,aerials,M,Silver\\n2002,Salt Lake City,Skiing,Freestyle Ski.,USA,moguls,M,Silver\\n2002,Salt Lake City,Skiing,Freestyle Ski.,USA,moguls,W,Silver\\n2002,Salt Lake City,Skiing,Snowboard,USA,Giant parallel slalom,M,Bronze\\n2002,Salt Lake City,Skiing,Snowboard,USA,Half-pipe,M,Bronze\\n2002,Salt Lake City,Skiing,Snowboard,USA,Half-pipe,M,Gold\\n2002,Salt Lake City,Skiing,Snowboard,USA,Half-pipe,M,Silver\\n2002,Salt Lake City,Skiing,Snowboard,USA,Half-pipe,W,Gold\\n2006,Turin,Skiing,Freestyle Ski.,AUS,aerials,W,Bronze\\n2006,Turin,Skiing,Freestyle Ski.,AUS,moguls,M,Gold\\n2006,Turin,Luge,Luge,AUT,doubles,X,Gold\\n2006,Turin,Skiing,Alpine Skiing,AUT,Alpine combined,M,Bronze\\n2006,Turin,Skiing,Alpine Skiing,AUT,Alpine combined,W,Silver\\n2006,Turin,Skiing,Alpine Skiing,AUT,downhill,M,Silver\\n2006,Turin,Skiing,Alpine Skiing,AUT,downhill,W,Gold\\n2006,Turin,Skiing,Alpine Skiing,AUT,giant slalom,M,Bronze\\n2006,Turin,Skiing,Alpine Skiing,AUT,giant slalom,M,Gold\\n2006,Turin,Skiing,Alpine Skiing,AUT,slalom,M,Bronze\\n2006,Turin,Skiing,Alpine Skiing,AUT,slalom,M,Gold\\n2006,Turin,Skiing,Alpine Skiing,AUT,slalom,M,Silver\\n2006,Turin,Skiing,Alpine Skiing,AUT,slalom,W,Bronze\\n2006,Turin,Skiing,Alpine Skiing,AUT,slalom,W,Silver\\n2006,Turin,Skiing,Alpine Skiing,AUT,super-G,M,Silver\\n2006,Turin,Skiing,Alpine Skiing,AUT,super-G,W,Bronze\\n2006,Turin,Skiing,Alpine Skiing,AUT,super-G,W,Gold\\n2006,Turin,Skiing,Cross Country S,AUT,50km,M,Bronze\\n2006,Turin,Skiing,Nordic Combined,AUT,Individual,M,Silver\\n2006,Turin,Skiing,Nordic Combined,AUT,Individual sprint,M,Gold\\n2006,Turin,Skiing,Nordic Combined,AUT,Team,M,Gold\\n2006,Turin,Skiing,Ski Jumping,AUT,K120 individual (90m),M,Gold\\n2006,Turin,Skiing,Ski Jumping,AUT,K120 individual (90m),M,Silver\\n2006,Turin,Skiing,Ski Jumping,AUT,K120 team (90m),M,Gold\\n2006,Turin,Skiing,Snowboard,AUT,Giant parallel slalom,M,Bronze\\n2006,Turin,Skiing,Freestyle Ski.,BLR,aerials,M,Silver\\n2006,Turin,Skating,Short Track S.,BUL,500m,W,Silver\\n2006,Turin,Bobsleigh,Bobsleigh,CAN,two-man,M,Silver\\n2006,Turin,Bobsleigh,Skeleton,CAN,individual,M,Gold\\n2006,Turin,Bobsleigh,Skeleton,CAN,individual,M,Silver\\n2006,Turin,Bobsleigh,Skeleton,CAN,individual,W,Bronze\\n2006,Turin,Curling,Curling,CAN,curling,M,Gold\\n2006,Turin,Curling,Curling,CAN,curling,W,Bronze\\n2006,Turin,Ice Hockey,Ice Hockey,CAN,ice hockey,W,Gold\\n2006,Turin,Skating,Figure skating,CAN,individual,M,Bronze\\n2006,Turin,Skating,Short Track S.,CAN,3000m relay,W,Silver\\n2006,Turin,Skating,Short Track S.,CAN,5000m relay,M,Silver\\n2006,Turin,Skating,Short Track S.,CAN,500m,M,Silver\\n2006,Turin,Skating,Short Track S.,CAN,500m,W,Bronze\\n2006,Turin,Skating,Speed skating,CAN,1000m,W,Silver\\n2006,Turin,Skating,Speed skating,CAN,1500m,W,Gold\\n2006,Turin,Skating,Speed skating,CAN,1500m,W,Silver\\n2006,Turin,Skating,Speed skating,CAN,3000m,W,Bronze\\n2006,Turin,Skating,Speed skating,CAN,5000m,W,Bronze\\n2006,Turin,Skating,Speed skating,CAN,5000m,W,Gold\\n2006,Turin,Skating,Speed skating,CAN,Team pursuit,M,Silver\\n2006,Turin,Skating,Speed skating,CAN,Team pursuit,W,Silver\\n2006,Turin,Skiing,Cross Country S,CAN,Sprint 1.5km,W,Gold\\n2006,Turin,Skiing,Cross Country S,CAN,Team sprint,W,Silver\\n2006,Turin,Skiing,Freestyle Ski.,CAN,moguls,W,Gold\\n2006,Turin,Skiing,Snowboard,CAN,Snowboard Cross,W,Bronze\\n2006,Turin,Skating,Figure skating,CHN,pairs,X,Bronze\\n2006,Turin,Skating,Figure skating,CHN,pairs,X,Silver\\n2006,Turin,Skating,Short Track S.,CHN,1000m,W,Bronze\\n2006,Turin,Skating,Short Track S.,CHN,1000m,W,Silver\\n2006,Turin,Skating,Short Track S.,CHN,1500m,M,Bronze\\n2006,Turin,Skating,Short Track S.,CHN,1500m,W,Bronze\\n2006,Turin,Skating,Short Track S.,CHN,500m,W,Gold\\n2006,Turin,Skating,Speed skating,CHN,500m,W,Bronze\\n2006,Turin,Skating,Speed skating,CHN,500m,W,Silver\\n2006,Turin,Skiing,Freestyle Ski.,CHN,aerials,M,Gold\\n2006,Turin,Skiing,Freestyle Ski.,CHN,aerials,W,Silver\\n2006,Turin,Skiing,Alpine Skiing,CRO,Alpine combined,M,Silver\\n2006,Turin,Skiing,Alpine Skiing,CRO,Alpine combined,W,Gold\\n2006,Turin,Skiing,Alpine Skiing,CRO,super-G,W,Silver\\n2006,Turin,Ice Hockey,Ice Hockey,CZE,ice hockey,M,Bronze\\n2006,Turin,Skiing,Cross Country S,CZE,15km,M,Silver\\n2006,Turin,Skiing,Cross Country S,CZE,30km,W,Gold\\n2006,Turin,Skiing,Cross Country S,CZE,Combined 7.5 + 7.5km mass start,W,Silver\\n2006,Turin,Skiing,Cross Country S,EST,10km,W,Gold\\n2006,Turin,Skiing,Cross Country S,EST,15km,M,Gold\\n2006,Turin,Skiing,Cross Country S,EST,Combined 7.5 + 7.5km mass start,W,Gold\\n2006,Turin,Curling,Curling,FIN,curling,M,Silver\\n2006,Turin,Ice Hockey,Ice Hockey,FIN,ice hockey,M,Silver\\n2006,Turin,Skiing,Alpine Skiing,FIN,giant slalom,W,Silver\\n2006,Turin,Skiing,Cross Country S,FIN,Team sprint,W,Bronze\\n2006,Turin,Skiing,Freestyle Ski.,FIN,moguls,M,Silver\\n2006,Turin,Skiing,Nordic Combined,FIN,Team,M,Bronze\\n2006,Turin,Skiing,Ski Jumping,FIN,K120 team (90m),M,Silver\\n2006,Turin,Skiing,Ski Jumping,FIN,K90 individual (70m),M,Silver\\n2006,Turin,Skiing,Snowboard,FIN,Half-pipe,M,Bronze\\n2006,Turin,Biathlon,Biathlon,FRA,12.5km pursuit,M,Gold\\n2006,Turin,Biathlon,Biathlon,FRA,4x6km relay,W,Bronze\\n2006,Turin,Biathlon,Biathlon,FRA,4x7.5km relay,M,Bronze\\n2006,Turin,Biathlon,Biathlon,FRA,7.5km,W,Gold\\n2006,Turin,Skiing,Alpine Skiing,FRA,downhill,M,Gold\\n2006,Turin,Skiing,Alpine Skiing,FRA,giant slalom,M,Silver\\n2006,Turin,Skiing,Cross Country S,FRA,Sprint 1.5km,M,Silver\\n2006,Turin,Skiing,Freestyle Ski.,FRA,moguls,W,Bronze\\n2006,Turin,Skiing,Snowboard,FRA,Snowboard Cross,M,Bronze\\n2006,Turin,Bobsleigh,Skeleton,GBR,individual,W,Silver\\n2006,Turin,Biathlon,Biathlon,GER,10km,M,Gold\\n2006,Turin,Biathlon,Biathlon,GER,10km pursuit,W,Gold\\n2006,Turin,Biathlon,Biathlon,GER,10km pursuit,W,Silver\\n2006,Turin,Biathlon,Biathlon,GER,12.5km mass start,W,Bronze\\n2006,Turin,Biathlon,Biathlon,GER,12.5km mass start,W,Silver\\n2006,Turin,Biathlon,Biathlon,GER,12.5km pursuit,M,Bronze\\n2006,Turin,Biathlon,Biathlon,GER,15km,W,Silver\\n2006,Turin,Biathlon,Biathlon,GER,15km mass start,M,Gold\\n2006,Turin,Biathlon,Biathlon,GER,20km,M,Gold\\n2006,Turin,Biathlon,Biathlon,GER,4x6km relay,W,Silver\\n2006,Turin,Biathlon,Biathlon,GER,4x7.5km relay,M,Gold\\n2006,Turin,Bobsleigh,Bobsleigh,GER,four-man,M,Gold\\n2006,Turin,Bobsleigh,Bobsleigh,GER,two-man,M,Gold\\n2006,Turin,Bobsleigh,Bobsleigh,GER,two-man,W,Gold\\n2006,Turin,Luge,Luge,GER,doubles,X,Silver\\n2006,Turin,Luge,Luge,GER,singles,W,Bronze\\n2006,Turin,Luge,Luge,GER,singles,W,Gold\\n2006,Turin,Luge,Luge,GER,singles,W,Silver\\n2006,Turin,Skating,Speed skating,GER,1000m,W,Bronze\\n2006,Turin,Skating,Speed skating,GER,5000m,W,Silver\\n2006,Turin,Skating,Speed skating,GER,Team pursuit,W,Gold\\n2006,Turin,Skiing,Cross Country S,GER,15km,M,Bronze\\n2006,Turin,Skiing,Cross Country S,GER,4x10km relay,M,Silver\\n2006,Turin,Skiing,Cross Country S,GER,4x5km relay,W,Silver\\n2006,Turin,Skiing,Cross Country S,GER,sprint 1.5km,W,Silver\\n2006,Turin,Skiing,Nordic Combined,GER,Individual,M,Gold\\n2006,Turin,Skiing,Nordic Combined,GER,Individual sprint,M,Bronze\\n2006,Turin,Skiing,Nordic Combined,GER,Team,M,Silver\\n2006,Turin,Skiing,Snowboard,GER,Giant parallel slalom,W,Silver\\n2006,Turin,Bobsleigh,Bobsleigh,ITA,two-man,W,Bronze\\n2006,Turin,Luge,Luge,ITA,doubles,X,Bronze\\n2006,Turin,Luge,Luge,ITA,singles,M,Gold\\n2006,Turin,Skating,Short Track S.,ITA,3000m relay,W,Bronze\\n2006,Turin,Skating,Speed skating,ITA,1500m,M,Gold\\n2006,Turin,Skating,Speed skating,ITA,5000m,M,Bronze\\n2006,Turin,Skating,Speed skating,ITA,Team pursuit,M,Gold\\n2006,Turin,Skiing,Cross Country S,ITA,4x10km relay,M,Gold\\n2006,Turin,Skiing,Cross Country S,ITA,4x5km relay,W,Bronze\\n2006,Turin,Skiing,Cross Country S,ITA,50km,M,Gold\\n2006,Turin,Skiing,Cross Country S,ITA,Combined 15 + 15km mass start,M,Bronze\\n2006,Turin,Skating,Figure skating,JPN,individual,W,Gold\\n2006,Turin,Skating,Short Track S.,KOR,1000m,M,Gold\\n2006,Turin,Skating,Short Track S.,KOR,1000m,M,Silver\\n2006,Turin,Skating,Short Track S.,KOR,1000m,W,Gold\\n2006,Turin,Skating,Short Track S.,KOR,1500m,M,Gold\\n2006,Turin,Skating,Short Track S.,KOR,1500m,M,Silver\\n2006,Turin,Skating,Short Track S.,KOR,1500m,W,Gold\\n2006,Turin,Skating,Short Track S.,KOR,1500m,W,Silver\\n2006,Turin,Skating,Short Track S.,KOR,3000m relay,W,Gold\\n2006,Turin,Skating,Short Track S.,KOR,5000m relay,M,Gold\\n2006,Turin,Skating,Short Track S.,KOR,500m,M,Bronze\\n2006,Turin,Skating,Speed skating,KOR,500m,M,Bronze\\n2006,Turin,Luge,Luge,LAT,singles,M,Bronze\\n2006,Turin,Skating,Speed skating,NED,10000m,M,Bronze\\n2006,Turin,Skating,Speed skating,NED,10000m,M,Gold\\n2006,Turin,Skating,Speed skating,NED,1000m,M,Bronze\\n2006,Turin,Skating,Speed skating,NED,1000m,W,Gold\\n2006,Turin,Skating,Speed skating,NED,1500m,W,Bronze\\n2006,Turin,Skating,Speed skating,NED,3000m,W,Gold\\n2006,Turin,Skating,Speed skating,NED,3000m,W,Silver\\n2006,Turin,Skating,Speed skating,NED,5000m,M,Silver\\n2006,Turin,Skating,Speed skating,NED,Team pursuit,M,Bronze\\n2006,Turin,Biathlon,Biathlon,NOR,10km,M,Bronze\\n2006,Turin,Biathlon,Biathlon,NOR,10km,M,Silver\\n2006,Turin,Biathlon,Biathlon,NOR,12.5km pursuit,M,Silver\\n2006,Turin,Biathlon,Biathlon,NOR,15km mass start,M,Bronze\\n2006,Turin,Biathlon,Biathlon,NOR,20km,M,Bronze\\n2006,Turin,Biathlon,Biathlon,NOR,20km,M,Silver\\n2006,Turin,Skiing,Alpine Skiing,NOR,super-G,M,Gold\\n2006,Turin,Skiing,Cross Country S,NOR,10km,W,Bronze\\n2006,Turin,Skiing,Cross Country S,NOR,10km,W,Silver\\n2006,Turin,Skiing,Cross Country S,NOR,Combined 15 + 15km mass start,M,Silver\\n2006,Turin,Skiing,Cross Country S,NOR,Team sprint,M,Silver\\n2006,Turin,Skiing,Freestyle Ski.,NOR,moguls,W,Silver\\n2006,Turin,Skiing,Nordic Combined,NOR,Individual,M,Bronze\\n2006,Turin,Skiing,Nordic Combined,NOR,Individual sprint,M,Silver\\n2006,Turin,Skiing,Ski Jumping,NOR,K120 individual (90m),M,Bronze\\n2006,Turin,Skiing,Ski Jumping,NOR,K120 team (90m),M,Bronze\\n2006,Turin,Skiing,Ski Jumping,NOR,K90 individual (70m),M,Bronze\\n2006,Turin,Skiing,Ski Jumping,NOR,K90 individual (70m),M,Gold\\n2006,Turin,Skiing,Snowboard,NOR,Half-pipe,W,Bronze\\n2006,Turin,Biathlon,Biathlon,POL,15km mass start,M,Silver\\n2006,Turin,Skiing,Cross Country S,POL,30km,W,Bronze\\n2006,Turin,Biathlon,Biathlon,RUS,10km pursuit,W,Bronze\\n2006,Turin,Biathlon,Biathlon,RUS,15km,W,Bronze\\n2006,Turin,Biathlon,Biathlon,RUS,15km,W,Gold\\n2006,Turin,Biathlon,Biathlon,RUS,4x6km relay,W,Gold\\n2006,Turin,Biathlon,Biathlon,RUS,4x7.5km relay,M,Silver\\n2006,Turin,Bobsleigh,Bobsleigh,RUS,four-man,M,Silver\\n2006,Turin,Luge,Luge,RUS,singles,M,Silver\\n2006,Turin,Skating,Figure skating,RUS,ice dancing,X,Gold\\n2006,Turin,Skating,Figure skating,RUS,individual,M,Gold\\n2006,Turin,Skating,Figure skating,RUS,individual,W,Bronze\\n2006,Turin,Skating,Figure skating,RUS,pairs,X,Gold\\n2006,Turin,Skating,Speed skating,RUS,500m,M,Silver\\n2006,Turin,Skating,Speed skating,RUS,500m,W,Gold\\n2006,Turin,Skating,Speed skating,RUS,Team pursuit,W,Bronze\\n2006,Turin,Skiing,Cross Country S,RUS,30km,W,Silver\\n2006,Turin,Skiing,Cross Country S,RUS,4x5km relay,W,Gold\\n2006,Turin,Skiing,Cross Country S,RUS,50km,M,Silver\\n2006,Turin,Skiing,Cross Country S,RUS,Combined 15 + 15km mass start,M,Gold\\n2006,Turin,Skiing,Cross Country S,RUS,Combined 7.5 + 7.5km mass start,W,Bronze\\n2006,Turin,Skiing,Cross Country S,RUS,sprint 1.5km,W,Bronze\\n2006,Turin,Skiing,Cross Country S,RUS,Team sprint,M,Bronze\\n2006,Turin,Skiing,Freestyle Ski.,RUS,aerials,M,Bronze\\n2006,Turin,Bobsleigh,Bobsleigh,SUI,four-man,M,Bronze\\n2006,Turin,Bobsleigh,Bobsleigh,SUI,two-man,M,Bronze\\n2006,Turin,Bobsleigh,Skeleton,SUI,individual,M,Bronze\\n2006,Turin,Bobsleigh,Skeleton,SUI,individual,W,Gold\\n2006,Turin,Curling,Curling,SUI,curling,W,Silver\\n2006,Turin,Skating,Figure skating,SUI,individual,M,Silver\\n2006,Turin,Skiing,Alpine Skiing,SUI,downhill,M,Bronze\\n2006,Turin,Skiing,Alpine Skiing,SUI,downhill,W,Silver\\n2006,Turin,Skiing,Alpine Skiing,SUI,super-G,M,Bronze\\n2006,Turin,Skiing,Freestyle Ski.,SUI,aerials,W,Gold\\n2006,Turin,Skiing,Snowboard,SUI,Giant parallel slalom,M,Gold\\n2006,Turin,Skiing,Snowboard,SUI,Giant parallel slalom,M,Silver\\n2006,Turin,Skiing,Snowboard,SUI,Giant parallel slalom,W,Gold\\n2006,Turin,Skiing,Snowboard,SUI,Snowboard Cross,W,Gold\\n2006,Turin,Skiing,Snowboard,SVK,Snowboard Cross,M,Silver\\n2006,Turin,Biathlon,Biathlon,SWE,12.5km mass start,W,Gold\\n2006,Turin,Biathlon,Biathlon,SWE,7.5km,W,Silver\\n2006,Turin,Curling,Curling,SWE,curling,W,Gold\\n2006,Turin,Ice Hockey,Ice Hockey,SWE,ice hockey,M,Gold\\n2006,Turin,Ice Hockey,Ice Hockey,SWE,ice hockey,W,Silver\\n2006,Turin,Skiing,Alpine Skiing,SWE,Alpine combined,W,Bronze\\n2006,Turin,Skiing,Alpine Skiing,SWE,downhill,W,Bronze\\n2006,Turin,Skiing,Alpine Skiing,SWE,giant slalom,W,Bronze\\n2006,Turin,Skiing,Alpine Skiing,SWE,slalom,W,Gold\\n2006,Turin,Skiing,Cross Country S,SWE,4x10km relay,M,Bronze\\n2006,Turin,Skiing,Cross Country S,SWE,Sprint 1.5km,M,Bronze\\n2006,Turin,Skiing,Cross Country S,SWE,Sprint 1.5km,M,Gold\\n2006,Turin,Skiing,Cross Country S,SWE,Team sprint,M,Gold\\n2006,Turin,Skiing,Cross Country S,SWE,Team sprint,W,Gold\\n2006,Turin,Biathlon,Biathlon,UKR,7.5km,W,Bronze\\n2006,Turin,Skating,Figure skating,UKR,ice dancing,X,Bronze\\n2006,Turin,Bobsleigh,Bobsleigh,USA,two-man,W,Silver\\n2006,Turin,Curling,Curling,USA,curling,M,Bronze\\n2006,Turin,Ice Hockey,Ice Hockey,USA,ice hockey,W,Bronze\\n2006,Turin,Skating,Figure skating,USA,ice dancing,X,Silver\\n2006,Turin,Skating,Figure skating,USA,individual,W,Silver\\n2006,Turin,Skating,Short Track S.,USA,1000m,M,Bronze\\n2006,Turin,Skating,Short Track S.,USA,5000m relay,M,Bronze\\n2006,Turin,Skating,Short Track S.,USA,500m,M,Gold\\n2006,Turin,Skating,Speed skating,USA,10000m,M,Silver\\n2006,Turin,Skating,Speed skating,USA,1000m,M,Gold\\n2006,Turin,Skating,Speed skating,USA,1000m,M,Silver\\n2006,Turin,Skating,Speed skating,USA,1500m,M,Bronze\\n2006,Turin,Skating,Speed skating,USA,1500m,M,Silver\\n2006,Turin,Skating,Speed skating,USA,5000m,M,Gold\\n2006,Turin,Skating,Speed skating,USA,500m,M,Gold\\n2006,Turin,Skiing,Alpine Skiing,USA,Alpine combined,M,Gold\\n2006,Turin,Skiing,Alpine Skiing,USA,giant slalom,W,Gold\\n2006,Turin,Skiing,Freestyle Ski.,USA,moguls,M,Bronze\\n2006,Turin,Skiing,Snowboard,USA,Giant parallel slalom,W,Bronze\\n2006,Turin,Skiing,Snowboard,USA,Half-pipe,M,Gold\\n2006,Turin,Skiing,Snowboard,USA,Half-pipe,M,Silver\\n2006,Turin,Skiing,Snowboard,USA,Half-pipe,W,Gold\\n2006,Turin,Skiing,Snowboard,USA,Half-pipe,W,Silver\\n2006,Turin,Skiing,Snowboard,USA,Snowboard Cross,M,Gold\\n2006,Turin,Skiing,Snowboard,USA,Snowboard Cross,W,Silver\""
      ]
     },
     "metadata": {},
     "execution_count": 25
    }
   ],
   "source": [
    "import urllib3\n",
    "http = urllib3.PoolManager()\n",
    "r = http.request('GET', medals_url)\n",
    "r.status\n",
    "response = r.data\n",
    "response"
   ]
  },
  {
   "cell_type": "code",
   "execution_count": 26,
   "metadata": {},
   "outputs": [
    {
     "output_type": "execute_result",
     "data": {
      "text/plain": [
       "<_csv.reader at 0x7f1ca9520ba0>"
      ]
     },
     "metadata": {},
     "execution_count": 26
    }
   ],
   "source": [
    "cr = csv.reader(response)\n",
    "cr"
   ]
  },
  {
   "source": [
    "## ficheros xls y xlsx"
   ],
   "cell_type": "markdown",
   "metadata": {}
  },
  {
   "cell_type": "code",
   "execution_count": 27,
   "metadata": {},
   "outputs": [],
   "source": [
    "mainpath = \"/home/lexus72/github/python-ml-course/datasets\"\n",
    "filename = \"titanic/titanic3.xls\""
   ]
  },
  {
   "cell_type": "code",
   "execution_count": 28,
   "metadata": {},
   "outputs": [],
   "source": [
    "titanic2 = pd.read_excel(mainpath + \"/\" + filename, \"titanic3\")"
   ]
  },
  {
   "cell_type": "code",
   "execution_count": 29,
   "metadata": {},
   "outputs": [
    {
     "output_type": "execute_result",
     "data": {
      "text/plain": [
       "      pclass  survived                                             name  \\\n",
       "0          1         1                    Allen, Miss. Elisabeth Walton   \n",
       "1          1         1                   Allison, Master. Hudson Trevor   \n",
       "2          1         0                     Allison, Miss. Helen Loraine   \n",
       "3          1         0             Allison, Mr. Hudson Joshua Creighton   \n",
       "4          1         0  Allison, Mrs. Hudson J C (Bessie Waldo Daniels)   \n",
       "...      ...       ...                                              ...   \n",
       "1304       3         0                             Zabour, Miss. Hileni   \n",
       "1305       3         0                            Zabour, Miss. Thamine   \n",
       "1306       3         0                        Zakarian, Mr. Mapriededer   \n",
       "1307       3         0                              Zakarian, Mr. Ortin   \n",
       "1308       3         0                               Zimmerman, Mr. Leo   \n",
       "\n",
       "         sex      age  sibsp  parch  ticket      fare    cabin embarked boat  \\\n",
       "0     female  29.0000      0      0   24160  211.3375       B5        S    2   \n",
       "1       male   0.9167      1      2  113781  151.5500  C22 C26        S   11   \n",
       "2     female   2.0000      1      2  113781  151.5500  C22 C26        S  NaN   \n",
       "3       male  30.0000      1      2  113781  151.5500  C22 C26        S  NaN   \n",
       "4     female  25.0000      1      2  113781  151.5500  C22 C26        S  NaN   \n",
       "...      ...      ...    ...    ...     ...       ...      ...      ...  ...   \n",
       "1304  female  14.5000      1      0    2665   14.4542      NaN        C  NaN   \n",
       "1305  female      NaN      1      0    2665   14.4542      NaN        C  NaN   \n",
       "1306    male  26.5000      0      0    2656    7.2250      NaN        C  NaN   \n",
       "1307    male  27.0000      0      0    2670    7.2250      NaN        C  NaN   \n",
       "1308    male  29.0000      0      0  315082    7.8750      NaN        S  NaN   \n",
       "\n",
       "       body                        home.dest  \n",
       "0       NaN                     St Louis, MO  \n",
       "1       NaN  Montreal, PQ / Chesterville, ON  \n",
       "2       NaN  Montreal, PQ / Chesterville, ON  \n",
       "3     135.0  Montreal, PQ / Chesterville, ON  \n",
       "4       NaN  Montreal, PQ / Chesterville, ON  \n",
       "...     ...                              ...  \n",
       "1304  328.0                              NaN  \n",
       "1305    NaN                              NaN  \n",
       "1306  304.0                              NaN  \n",
       "1307    NaN                              NaN  \n",
       "1308    NaN                              NaN  \n",
       "\n",
       "[1309 rows x 14 columns]"
      ],
      "text/html": "<div>\n<style scoped>\n    .dataframe tbody tr th:only-of-type {\n        vertical-align: middle;\n    }\n\n    .dataframe tbody tr th {\n        vertical-align: top;\n    }\n\n    .dataframe thead th {\n        text-align: right;\n    }\n</style>\n<table border=\"1\" class=\"dataframe\">\n  <thead>\n    <tr style=\"text-align: right;\">\n      <th></th>\n      <th>pclass</th>\n      <th>survived</th>\n      <th>name</th>\n      <th>sex</th>\n      <th>age</th>\n      <th>sibsp</th>\n      <th>parch</th>\n      <th>ticket</th>\n      <th>fare</th>\n      <th>cabin</th>\n      <th>embarked</th>\n      <th>boat</th>\n      <th>body</th>\n      <th>home.dest</th>\n    </tr>\n  </thead>\n  <tbody>\n    <tr>\n      <th>0</th>\n      <td>1</td>\n      <td>1</td>\n      <td>Allen, Miss. Elisabeth Walton</td>\n      <td>female</td>\n      <td>29.0000</td>\n      <td>0</td>\n      <td>0</td>\n      <td>24160</td>\n      <td>211.3375</td>\n      <td>B5</td>\n      <td>S</td>\n      <td>2</td>\n      <td>NaN</td>\n      <td>St Louis, MO</td>\n    </tr>\n    <tr>\n      <th>1</th>\n      <td>1</td>\n      <td>1</td>\n      <td>Allison, Master. Hudson Trevor</td>\n      <td>male</td>\n      <td>0.9167</td>\n      <td>1</td>\n      <td>2</td>\n      <td>113781</td>\n      <td>151.5500</td>\n      <td>C22 C26</td>\n      <td>S</td>\n      <td>11</td>\n      <td>NaN</td>\n      <td>Montreal, PQ / Chesterville, ON</td>\n    </tr>\n    <tr>\n      <th>2</th>\n      <td>1</td>\n      <td>0</td>\n      <td>Allison, Miss. Helen Loraine</td>\n      <td>female</td>\n      <td>2.0000</td>\n      <td>1</td>\n      <td>2</td>\n      <td>113781</td>\n      <td>151.5500</td>\n      <td>C22 C26</td>\n      <td>S</td>\n      <td>NaN</td>\n      <td>NaN</td>\n      <td>Montreal, PQ / Chesterville, ON</td>\n    </tr>\n    <tr>\n      <th>3</th>\n      <td>1</td>\n      <td>0</td>\n      <td>Allison, Mr. Hudson Joshua Creighton</td>\n      <td>male</td>\n      <td>30.0000</td>\n      <td>1</td>\n      <td>2</td>\n      <td>113781</td>\n      <td>151.5500</td>\n      <td>C22 C26</td>\n      <td>S</td>\n      <td>NaN</td>\n      <td>135.0</td>\n      <td>Montreal, PQ / Chesterville, ON</td>\n    </tr>\n    <tr>\n      <th>4</th>\n      <td>1</td>\n      <td>0</td>\n      <td>Allison, Mrs. Hudson J C (Bessie Waldo Daniels)</td>\n      <td>female</td>\n      <td>25.0000</td>\n      <td>1</td>\n      <td>2</td>\n      <td>113781</td>\n      <td>151.5500</td>\n      <td>C22 C26</td>\n      <td>S</td>\n      <td>NaN</td>\n      <td>NaN</td>\n      <td>Montreal, PQ / Chesterville, ON</td>\n    </tr>\n    <tr>\n      <th>...</th>\n      <td>...</td>\n      <td>...</td>\n      <td>...</td>\n      <td>...</td>\n      <td>...</td>\n      <td>...</td>\n      <td>...</td>\n      <td>...</td>\n      <td>...</td>\n      <td>...</td>\n      <td>...</td>\n      <td>...</td>\n      <td>...</td>\n      <td>...</td>\n    </tr>\n    <tr>\n      <th>1304</th>\n      <td>3</td>\n      <td>0</td>\n      <td>Zabour, Miss. Hileni</td>\n      <td>female</td>\n      <td>14.5000</td>\n      <td>1</td>\n      <td>0</td>\n      <td>2665</td>\n      <td>14.4542</td>\n      <td>NaN</td>\n      <td>C</td>\n      <td>NaN</td>\n      <td>328.0</td>\n      <td>NaN</td>\n    </tr>\n    <tr>\n      <th>1305</th>\n      <td>3</td>\n      <td>0</td>\n      <td>Zabour, Miss. Thamine</td>\n      <td>female</td>\n      <td>NaN</td>\n      <td>1</td>\n      <td>0</td>\n      <td>2665</td>\n      <td>14.4542</td>\n      <td>NaN</td>\n      <td>C</td>\n      <td>NaN</td>\n      <td>NaN</td>\n      <td>NaN</td>\n    </tr>\n    <tr>\n      <th>1306</th>\n      <td>3</td>\n      <td>0</td>\n      <td>Zakarian, Mr. Mapriededer</td>\n      <td>male</td>\n      <td>26.5000</td>\n      <td>0</td>\n      <td>0</td>\n      <td>2656</td>\n      <td>7.2250</td>\n      <td>NaN</td>\n      <td>C</td>\n      <td>NaN</td>\n      <td>304.0</td>\n      <td>NaN</td>\n    </tr>\n    <tr>\n      <th>1307</th>\n      <td>3</td>\n      <td>0</td>\n      <td>Zakarian, Mr. Ortin</td>\n      <td>male</td>\n      <td>27.0000</td>\n      <td>0</td>\n      <td>0</td>\n      <td>2670</td>\n      <td>7.2250</td>\n      <td>NaN</td>\n      <td>C</td>\n      <td>NaN</td>\n      <td>NaN</td>\n      <td>NaN</td>\n    </tr>\n    <tr>\n      <th>1308</th>\n      <td>3</td>\n      <td>0</td>\n      <td>Zimmerman, Mr. Leo</td>\n      <td>male</td>\n      <td>29.0000</td>\n      <td>0</td>\n      <td>0</td>\n      <td>315082</td>\n      <td>7.8750</td>\n      <td>NaN</td>\n      <td>S</td>\n      <td>NaN</td>\n      <td>NaN</td>\n      <td>NaN</td>\n    </tr>\n  </tbody>\n</table>\n<p>1309 rows × 14 columns</p>\n</div>"
     },
     "metadata": {},
     "execution_count": 29
    }
   ],
   "source": [
    "titanic2"
   ]
  },
  {
   "cell_type": "code",
   "execution_count": 30,
   "metadata": {},
   "outputs": [
    {
     "output_type": "execute_result",
     "data": {
      "text/plain": [
       "pandas.core.frame.DataFrame"
      ]
     },
     "metadata": {},
     "execution_count": 30
    }
   ],
   "source": [
    "type(titanic2)"
   ]
  },
  {
   "cell_type": "code",
   "execution_count": 31,
   "metadata": {},
   "outputs": [],
   "source": [
    "titanic2_json = titanic2.to_json(mainpath + \"/\" + \"/titanic/titanic.json\")"
   ]
  },
  {
   "cell_type": "code",
   "execution_count": 32,
   "metadata": {},
   "outputs": [],
   "source": [
    "titanic2_json"
   ]
  },
  {
   "source": [
    "##  29. ejercicio descargar y procesar datos desde una URL"
   ],
   "cell_type": "markdown",
   "metadata": {}
  },
  {
   "cell_type": "code",
   "execution_count": 23,
   "metadata": {},
   "outputs": [],
   "source": [
    "# importamos libreria y hacemos conexion web con los datos\n",
    "import urllib3\n",
    "http = urllib3.PoolManager()\n",
    "r = http.request('GET', medals_url)\n",
    "r.status\n",
    "response = r.data"
   ]
  },
  {
   "cell_type": "code",
   "execution_count": 24,
   "metadata": {},
   "outputs": [],
   "source": [
    "# el objeto response es tipo string binario, lo pasamos a string normal decodificandolo con utf-8\n",
    "str_data = response.decode('utf-8')"
   ]
  },
  {
   "cell_type": "code",
   "execution_count": 25,
   "metadata": {},
   "outputs": [],
   "source": [
    "# dividimos el string en un array de filas separandolo por \\n\n",
    "lines = str_data.split('\\n')"
   ]
  },
  {
   "cell_type": "code",
   "execution_count": 26,
   "metadata": {},
   "outputs": [],
   "source": [
    "# la primera linea tiene la cabecera, asi que la extraemos\n",
    "col_names = lines[0].split(',')\n",
    "n_cols = len(col_names)"
   ]
  },
  {
   "cell_type": "code",
   "execution_count": 27,
   "metadata": {},
   "outputs": [],
   "source": [
    "# generamos un diccionario vacio donde ira la informacion extraida o procesada de la url externa\n",
    "counter = 0\n",
    "main_dict = {}\n",
    "for col in col_names:\n",
    "    main_dict[col] = []"
   ]
  },
  {
   "cell_type": "code",
   "execution_count": 29,
   "metadata": {},
   "outputs": [
    {
     "output_type": "stream",
     "name": "stdout",
     "text": [
      "el data set tiene 2312 filas y 8 columnas\n"
     ]
    }
   ],
   "source": [
    "# procesamos fila a fila la informacion para ir rellenando el diccionario con los datos\n",
    "for line in lines:\n",
    "    # nos saltamos la primera linea q es la q contiene la cabecera y ya tenemos procesada\n",
    "    if (counter > 0):\n",
    "        # dividimos cada string por las ',' como elemento separador\n",
    "        values = line.strip().split(',')\n",
    "        # añadimos cada valor a su respectiva columna del dicconario\n",
    "        for i in range(len(col_names)):\n",
    "            main_dict[col_names[i]].append(values[i])\n",
    "    counter = counter + 1\n",
    "print(\"el data set tiene %d filas y %d columnas\"%(counter, n_cols))"
   ]
  },
  {
   "cell_type": "code",
   "execution_count": 30,
   "metadata": {},
   "outputs": [
    {
     "output_type": "execute_result",
     "data": {
      "text/plain": [
       "   Year      City       Sport      Discipline  NOC       Event Event gender  \\\n",
       "0  1924  Chamonix     Skating  Figure skating  AUT  individual            M   \n",
       "1  1924  Chamonix     Skating  Figure skating  AUT  individual            W   \n",
       "2  1924  Chamonix     Skating  Figure skating  AUT       pairs            X   \n",
       "3  1924  Chamonix   Bobsleigh       Bobsleigh  BEL    four-man            M   \n",
       "4  1924  Chamonix  Ice Hockey      Ice Hockey  CAN  ice hockey            M   \n",
       "\n",
       "    Medal  \n",
       "0  Silver  \n",
       "1    Gold  \n",
       "2    Gold  \n",
       "3  Bronze  \n",
       "4    Gold  "
      ],
      "text/html": "<div>\n<style scoped>\n    .dataframe tbody tr th:only-of-type {\n        vertical-align: middle;\n    }\n\n    .dataframe tbody tr th {\n        vertical-align: top;\n    }\n\n    .dataframe thead th {\n        text-align: right;\n    }\n</style>\n<table border=\"1\" class=\"dataframe\">\n  <thead>\n    <tr style=\"text-align: right;\">\n      <th></th>\n      <th>Year</th>\n      <th>City</th>\n      <th>Sport</th>\n      <th>Discipline</th>\n      <th>NOC</th>\n      <th>Event</th>\n      <th>Event gender</th>\n      <th>Medal</th>\n    </tr>\n  </thead>\n  <tbody>\n    <tr>\n      <th>0</th>\n      <td>1924</td>\n      <td>Chamonix</td>\n      <td>Skating</td>\n      <td>Figure skating</td>\n      <td>AUT</td>\n      <td>individual</td>\n      <td>M</td>\n      <td>Silver</td>\n    </tr>\n    <tr>\n      <th>1</th>\n      <td>1924</td>\n      <td>Chamonix</td>\n      <td>Skating</td>\n      <td>Figure skating</td>\n      <td>AUT</td>\n      <td>individual</td>\n      <td>W</td>\n      <td>Gold</td>\n    </tr>\n    <tr>\n      <th>2</th>\n      <td>1924</td>\n      <td>Chamonix</td>\n      <td>Skating</td>\n      <td>Figure skating</td>\n      <td>AUT</td>\n      <td>pairs</td>\n      <td>X</td>\n      <td>Gold</td>\n    </tr>\n    <tr>\n      <th>3</th>\n      <td>1924</td>\n      <td>Chamonix</td>\n      <td>Bobsleigh</td>\n      <td>Bobsleigh</td>\n      <td>BEL</td>\n      <td>four-man</td>\n      <td>M</td>\n      <td>Bronze</td>\n    </tr>\n    <tr>\n      <th>4</th>\n      <td>1924</td>\n      <td>Chamonix</td>\n      <td>Ice Hockey</td>\n      <td>Ice Hockey</td>\n      <td>CAN</td>\n      <td>ice hockey</td>\n      <td>M</td>\n      <td>Gold</td>\n    </tr>\n  </tbody>\n</table>\n</div>"
     },
     "metadata": {},
     "execution_count": 30
    }
   ],
   "source": [
    "# convertimos el diccionario a dataframe\n",
    "medals_df = pd.DataFrame(main_dict)\n",
    "medals_df.head()"
   ]
  },
  {
   "cell_type": "code",
   "execution_count": 31,
   "metadata": {},
   "outputs": [],
   "source": [
    "# elegimos donde guardarlo, por el contexto deberia ser en  athletes\n",
    "mainpath = \"/home/lexus72/github/python-ml-course/datasets\"\n",
    "filename = \"athletes/downloaded_medals.\"\n",
    "fullpath = os.path.join(mainpath, filename)"
   ]
  },
  {
   "cell_type": "code",
   "execution_count": 32,
   "metadata": {},
   "outputs": [
    {
     "output_type": "stream",
     "name": "stderr",
     "text": [
      "<ipython-input-32-b8e9a82fb40b>:4: FutureWarning: As the xlwt package is no longer maintained, the xlwt engine will be removed in a future version of pandas. This is the only engine in pandas that supports writing in the xls format. Install openpyxl and write to an xlsx file instead. You can set the option io.excel.xls.writer to 'xlwt' to silence this warning. While this option is deprecated and will also raise a warning, it can be globally set and the warning suppressed.\n  medals_df.to_excel(fullpath + \"xls\")\n"
     ]
    }
   ],
   "source": [
    "# lo guardamos en json excel csv, segun queramos\n",
    "medals_df.to_csv(fullpath + \"csv\")\n",
    "medals_df.to_json(fullpath + \"json\")\n",
    "medals_df.to_excel(fullpath + \"xls\")"
   ]
  },
  {
   "source": [
    "## crear una funcion generica con el ejercicio 29"
   ],
   "cell_type": "markdown",
   "metadata": {}
  },
  {
   "cell_type": "code",
   "execution_count": 54,
   "metadata": {},
   "outputs": [],
   "source": [
    "def downloadfromurl(url, filename):\n",
    "    import urllib3\n",
    "    http = urllib3.PoolManager()\n",
    "    r = http.request('GET', url)\n",
    "    r.status\n",
    "    response = r.data\n",
    "    str_data = response.decode('utf-8')\n",
    "    lines = str_data.split('\\n')\n",
    "    col_names = lines[0].split(',')\n",
    "    n_cols = len(col_names)\n",
    "    counter = 0\n",
    "    main_dict = {}\n",
    "    for col in col_names:\n",
    "        main_dict[col] = []\n",
    "    for line in lines:\n",
    "        if (counter > 0):\n",
    "            values = line.strip().split(',')\n",
    "            for i in range(len(col_names)):\n",
    "                main_dict[col_names[i]].append(values[i])\n",
    "        counter = counter + 1\n",
    "    print(\"el data set tiene %d filas y %d columnas\"%(counter, n_cols))\n",
    "    df = pd.DataFrame(main_dict)\n",
    "    df.head()\n",
    "    print(df.head())\n",
    "    mainpath = \"/home/lexus72/github/python-ml-course/datasets\"\n",
    "    #filename = \"athletes/downloaded_medals\"\n",
    "    fullpath = os.path.join(mainpath, filename)\n",
    "    df.to_csv(fullpath + \".csv\")\n",
    "    df.to_json(fullpath + \".json\")\n",
    "    df.to_excel(fullpath + \".xls\")\n",
    "    print(\"los archivos se guardaron en: \" +fullpath)\n",
    "    return df"
   ]
  },
  {
   "cell_type": "code",
   "execution_count": null,
   "metadata": {},
   "outputs": [],
   "source": []
  },
  {
   "source": [
    "## ejecutando funcion downloadfromurl()"
   ],
   "cell_type": "markdown",
   "metadata": {}
  },
  {
   "cell_type": "code",
   "execution_count": 55,
   "metadata": {},
   "outputs": [
    {
     "output_type": "stream",
     "name": "stdout",
     "text": [
      "el data set tiene 2312 filas y 8 columnas\n",
      "   Year      City       Sport      Discipline  NOC       Event Event gender  \\\n",
      "0  1924  Chamonix     Skating  Figure skating  AUT  individual            M   \n",
      "1  1924  Chamonix     Skating  Figure skating  AUT  individual            W   \n",
      "2  1924  Chamonix     Skating  Figure skating  AUT       pairs            X   \n",
      "3  1924  Chamonix   Bobsleigh       Bobsleigh  BEL    four-man            M   \n",
      "4  1924  Chamonix  Ice Hockey      Ice Hockey  CAN  ice hockey            M   \n",
      "\n",
      "    Medal  \n",
      "0  Silver  \n",
      "1    Gold  \n",
      "2    Gold  \n",
      "3  Bronze  \n",
      "4    Gold  \n",
      "<ipython-input-54-fa16cfefe710>:30: FutureWarning: As the xlwt package is no longer maintained, the xlwt engine will be removed in a future version of pandas. This is the only engine in pandas that supports writing in the xls format. Install openpyxl and write to an xlsx file instead. You can set the option io.excel.xls.writer to 'xlwt' to silence this warning. While this option is deprecated and will also raise a warning, it can be globally set and the warning suppressed.\n",
      "  df.to_excel(fullpath + \".xls\")\n",
      "los archivos se guardaron en: /home/lexus72/github/python-ml-course/datasets/athletes/medals\n",
      "      Year      City       Sport      Discipline  NOC            Event  \\\n",
      "0     1924  Chamonix     Skating  Figure skating  AUT       individual   \n",
      "1     1924  Chamonix     Skating  Figure skating  AUT       individual   \n",
      "2     1924  Chamonix     Skating  Figure skating  AUT            pairs   \n",
      "3     1924  Chamonix   Bobsleigh       Bobsleigh  BEL         four-man   \n",
      "4     1924  Chamonix  Ice Hockey      Ice Hockey  CAN       ice hockey   \n",
      "...    ...       ...         ...             ...  ...              ...   \n",
      "2306  2006     Turin      Skiing       Snowboard  USA        Half-pipe   \n",
      "2307  2006     Turin      Skiing       Snowboard  USA        Half-pipe   \n",
      "2308  2006     Turin      Skiing       Snowboard  USA        Half-pipe   \n",
      "2309  2006     Turin      Skiing       Snowboard  USA  Snowboard Cross   \n",
      "2310  2006     Turin      Skiing       Snowboard  USA  Snowboard Cross   \n",
      "\n",
      "     Event gender   Medal  \n",
      "0               M  Silver  \n",
      "1               W    Gold  \n",
      "2               X    Gold  \n",
      "3               M  Bronze  \n",
      "4               M    Gold  \n",
      "...           ...     ...  \n",
      "2306            M  Silver  \n",
      "2307            W    Gold  \n",
      "2308            W  Silver  \n",
      "2309            M    Gold  \n",
      "2310            W  Silver  \n",
      "\n",
      "[2311 rows x 8 columns]\n"
     ]
    }
   ],
   "source": [
    "medals_df = downloadfromurl(medals_url, \"athletes/medals\")\n",
    "medals_df.head()\n",
    "print(medals_df)"
   ]
  },
  {
   "cell_type": "code",
   "execution_count": null,
   "metadata": {},
   "outputs": [],
   "source": []
  }
 ],
 "metadata": {
  "interpreter": {
   "hash": "e1e0fe17cbdfb14d81e081d7d1d1e517d0fc209a3f6c832a5668118ecfe57558"
  },
  "kernelspec": {
   "name": "python3",
   "display_name": "Python 3.8.8 64-bit ('base': conda)"
  },
  "language_info": {
   "codemirror_mode": {
    "name": "ipython",
    "version": 3
   },
   "file_extension": ".py",
   "mimetype": "text/x-python",
   "name": "python",
   "nbconvert_exporter": "python",
   "pygments_lexer": "ipython3",
   "version": "3.8.8"
  }
 },
 "nbformat": 4,
 "nbformat_minor": 5
}